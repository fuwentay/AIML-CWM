{
  "cells": [
    {
      "cell_type": "markdown",
      "metadata": {
        "id": "6x8LWELVGdja"
      },
      "source": [
        "# Numpy\n",
        "\n",
        "[Numpy](http://www.numpy.org/) is the core library for scientific computing in Python. It provides a high-performance multidimensional array object, and tools for working with these arrays. Check out [this visual tutorial](http://jalammar.github.io/visual-numpy/)."
      ]
    },
    {
      "cell_type": "markdown",
      "metadata": {
        "id": "zrfX__gzHqs2"
      },
      "source": [
        "If you are already familiar with MATLAB, you might find [this tutorial](https://docs.scipy.org/doc/numpy/user/numpy-for-matlab-users.html) and [cheat sheet](http://mathesaurus.sourceforge.net/matlab-python-xref.pdf) useful to get started with Numpy.\n",
        "\n",
        "***Important***: we need to **`import`** Numpy library before using it. The library is usually renamed as **`np`** to make the code cleaner and shorter"
      ]
    },
    {
      "cell_type": "code",
      "execution_count": 1,
      "metadata": {
        "id": "nwVXbp_4Ho1V"
      },
      "outputs": [],
      "source": [
        "import numpy as np"
      ]
    },
    {
      "cell_type": "markdown",
      "metadata": {
        "id": "qCRO45TTHLEK"
      },
      "source": [
        "## Arrays\n",
        "A numpy array is a grid of values, **all of the same type**, and is indexed by a tuple of nonnegative integers.\n",
        "The number of dimensions is the rank of the array;  the shape of an array is a tuple of integers giving the size of the array along each dimension."
      ]
    },
    {
      "cell_type": "code",
      "execution_count": 2,
      "metadata": {
        "id": "v6Va50gAwPVb"
      },
      "outputs": [
        {
          "name": "stdout",
          "output_type": "stream",
          "text": [
            "(2, 3)\n",
            "what is a shape ------  <class 'tuple'> 2\n",
            "(3,)\n"
          ]
        }
      ],
      "source": [
        "# numpy arrays have shape property, returning the dimensions of the array\n",
        "# initialize a matrix with two rows\n",
        "# first row is  1, 2, 3\n",
        "# second row is 4, 5, 6\n",
        "y = np.array([[1,2,3], [4, 5, 6]])\n",
        "print(y.shape)\n",
        "# a shape is a tuple, simply considered as an immutable list\n",
        "# for y here, the tuple contains two elements, (number of rows, number of columns)\n",
        "print('what is a shape ------ ', type(y.shape), len(y.shape))\n",
        "\n",
        "x = np.array([1, 2, 3])\n",
        "print(x.shape)\n",
        "# there is single element in the tuple,\n",
        "# the vector is treated as a row vector by default when doing matrix multiplications\n",
        "# x.dot(y)\n",
        "# y.dot(x.T)\n",
        "# print('', len(x.shape))"
      ]
    },
    {
      "cell_type": "code",
      "execution_count": 6,
      "metadata": {},
      "outputs": [
        {
          "data": {
            "text/plain": [
              "array([1, 2, 3])"
            ]
          },
          "execution_count": 6,
          "metadata": {},
          "output_type": "execute_result"
        }
      ],
      "source": [
        "x"
      ]
    },
    {
      "cell_type": "code",
      "execution_count": 9,
      "metadata": {
        "id": "WZ0Ofd_mz2fH"
      },
      "outputs": [
        {
          "name": "stdout",
          "output_type": "stream",
          "text": [
            "(3, 1) (3, 1)\n",
            "[[1 2 3]]\n",
            "(1, 3)\n"
          ]
        }
      ],
      "source": [
        "# # to get a column vector\n",
        "# xx = x.reshape((3, 1))\n",
        "# xx = x.reshape((1, 3))\n",
        "# print(xx)\n",
        "# print(xx.shape)\n",
        "\n",
        "#another way to turn x into a column vector is:\n",
        "xx = x[:, None]\n",
        "xxx = x[:, np.newaxis]\n",
        "print(xx.shape, xxx.shape)\n",
        "\n",
        "xx = x.reshape((1, 3))\n",
        "print(xx)\n",
        "print(xx.shape)\n",
        "#np.dot(x, xx)\n",
        "\n",
        "## xx.T is the transpose\n",
        "# np.dot(x, xx.T)"
      ]
    },
    {
      "cell_type": "code",
      "execution_count": 10,
      "metadata": {
        "id": "Dfp4cVCP-iFS"
      },
      "outputs": [
        {
          "name": "stdout",
          "output_type": "stream",
          "text": [
            "<class 'list'>\n",
            "<class 'numpy.ndarray'>\n"
          ]
        }
      ],
      "source": [
        "x = [1,2,3,4,5]\n",
        "x_np = np.array(x)\n",
        "\n",
        "print(type(x))\n",
        "print(type(x_np))"
      ]
    },
    {
      "cell_type": "code",
      "execution_count": 14,
      "metadata": {
        "id": "2wIh5xhQ-h75"
      },
      "outputs": [
        {
          "name": "stdout",
          "output_type": "stream",
          "text": [
            "<class 'list'>\n",
            "time elapsed for list is 0.01744222640991211\n",
            "time elapsed for list is 0.0003037452697753906\n"
          ]
        }
      ],
      "source": [
        "import time\n",
        "h = np.linspace(10, 20, 5)  # Create an array with 5 equally spaced values\n",
        "                            # between 10 and 20\n",
        "x = np.linspace(1,1000, 100000)\n",
        "x_list = list(x)\n",
        "print(type(x_list))\n",
        "\n",
        "start = time.time()\n",
        "z_list =[]\n",
        "for element in x_list:\n",
        "  z_list.append(element**2)\n",
        "# print(z_list)\n",
        "end = time.time()\n",
        "print(f\"time elapsed for list is {end-start}\")\n",
        "\n",
        "\n",
        "start = time.time()\n",
        "z = x**2\n",
        "# print(z)\n",
        "end = time.time()\n",
        "print(f\"time elapsed for list is {end-start}\")"
      ]
    },
    {
      "cell_type": "code",
      "execution_count": 17,
      "metadata": {
        "id": "lqBcJwkb0J3V"
      },
      "outputs": [
        {
          "name": "stdout",
          "output_type": "stream",
          "text": [
            "(100000,)\n",
            "(100000, 1)\n",
            "(100, 1000)\n"
          ]
        }
      ],
      "source": [
        "print(x.shape)\n",
        "\n",
        "x = x.reshape((-1, 1))\n",
        "print(x.shape)\n",
        "\n",
        "x = x.reshape((100, -1))\n",
        "print(x.shape)"
      ]
    },
    {
      "cell_type": "markdown",
      "metadata": {
        "id": "mkWAEUBTHLVJ"
      },
      "source": [
        "We can initialize numpy arrays from nested Python lists, and access elements using square brackets:"
      ]
    },
    {
      "cell_type": "code",
      "execution_count": 18,
      "metadata": {
        "id": "SLLUGzyLAKxT"
      },
      "outputs": [
        {
          "name": "stdout",
          "output_type": "stream",
          "text": [
            "(2, 2, 2, 1)\n"
          ]
        }
      ],
      "source": [
        "x= np.array([ [ [ [1] ],[ [2] ],[ [3] ] ] ])\n",
        "\n",
        "z = np.array([[[[1],[2]],[[3],[4]]], [[[1],[2]],[[3],[4]]]])\n",
        "print(z.shape)"
      ]
    },
    {
      "cell_type": "code",
      "execution_count": 22,
      "metadata": {
        "id": "4R1tJynEAKvf"
      },
      "outputs": [
        {
          "name": "stdout",
          "output_type": "stream",
          "text": [
            "[[1. 1. 1.]\n",
            " [1. 1. 1.]]\n",
            "[[0. 0. 0.]\n",
            " [0. 0. 0.]]\n",
            "[[0.89090404 0.4609108  0.12637337]\n",
            " [0.42508068 0.92949505 0.86430414]]\n",
            "[[ 0.68291593 -1.25909693  0.72956768]\n",
            " [-1.03742874 -1.79820963 -0.17762883]]\n",
            "[[2 0 0]\n",
            " [0 3 0]\n",
            " [0 0 4]]\n",
            "[[1. 0. 0.]\n",
            " [0. 1. 0.]\n",
            " [0. 0. 1.]]\n"
          ]
        }
      ],
      "source": [
        "x = np.ones((2,3))\n",
        "print(x)\n",
        "\n",
        "\n",
        "x = np.zeros((2,3))\n",
        "print(x)\n",
        "\n",
        "\n",
        "x = np.random.rand(2,3)\n",
        "print(x)\n",
        "\n",
        "\n",
        "x = np.random.randn(2,3)\n",
        "print(x)\n",
        "\n",
        "\n",
        "x = np.diag([2,3, 4])\n",
        "print(x)\n",
        "\n",
        "\n",
        "x = np.eye(3)\n",
        "print(x)"
      ]
    },
    {
      "cell_type": "code",
      "execution_count": 23,
      "metadata": {
        "id": "dAZXLZzqAKr3"
      },
      "outputs": [
        {
          "name": "stdout",
          "output_type": "stream",
          "text": [
            "[[[-0.29396474  0.44083688  0.26745245 -0.72607574 -0.08413465]\n",
            "  [ 1.08478632  2.12989523  2.80752796  0.48780873 -0.94569385]\n",
            "  [ 0.77226076  1.45733471  2.63637045  1.03513419  2.63205663]]\n",
            "\n",
            " [[-0.95509679 -0.22029517 -0.3936796  -1.38720779 -0.7452667 ]\n",
            "  [ 1.33010248  2.37521139  3.05284412  0.73312489 -0.70037769]\n",
            "  [-0.2112018   0.47387215  1.65290789  0.05167163  1.64859407]]\n",
            "\n",
            " [[-0.71860211  0.01619952 -0.15718491 -1.15071311 -0.50877202]\n",
            "  [-0.18459858  0.86051032  1.53814305 -0.78157618 -2.21507875]\n",
            "  [-0.67103991  0.01403404  1.19306978 -0.40816648  1.18875596]]]\n"
          ]
        }
      ],
      "source": [
        "x = np.random.randn(1,3,5)\n",
        "y = np.random.randn(3,3,1)\n",
        "\n",
        "\n",
        "print(x+y)"
      ]
    },
    {
      "cell_type": "code",
      "execution_count": null,
      "metadata": {
        "id": "QFPYmRJgAKY0"
      },
      "outputs": [],
      "source": [
        "x = np.array([[1], [2]])\n",
        "y = np.array([[3,4]])\n",
        "\n",
        "print(x+y)"
      ]
    },
    {
      "cell_type": "code",
      "execution_count": null,
      "metadata": {
        "id": "roNR2Z-RHKUx"
      },
      "outputs": [],
      "source": [
        "x= np.random.randint(0,9, (4,3))\n",
        "print(x)"
      ]
    },
    {
      "cell_type": "code",
      "execution_count": null,
      "metadata": {
        "id": "XmoOme-QHKSc"
      },
      "outputs": [],
      "source": [
        "x = np.arange(10)\n",
        "print(x, x.shape)\n",
        "x[::3]"
      ]
    },
    {
      "cell_type": "markdown",
      "metadata": {
        "id": "A5mduoKOHLXJ"
      },
      "source": [
        "Numpy also provides many functions to create arrays:\n"
      ]
    },
    {
      "cell_type": "code",
      "execution_count": null,
      "metadata": {
        "id": "ENpH_xKgJvsN"
      },
      "outputs": [],
      "source": [
        "a = np.zeros((2,2))   # Create an array of all zeros\n",
        "print(a)              # Prints \"[[ 0.  0.]\n",
        "                      #          [ 0.  0.]]\"\n",
        "\n",
        "b = np.ones((1,2))    # Create an array of all ones\n",
        "print(b)              # Prints \"[[ 1.  1.]]\"\n",
        "\n",
        "c = np.full((2,2), 7)  # Create a constant array\n",
        "print(c)               # Prints \"[[ 7.  7.]\n",
        "                       #          [ 7.  7.]]\"\n",
        "\n",
        "d = np.eye(2)         # Create a 2x2 identity matrix\n",
        "print(d)              # Prints \"[[ 1.  0.]\n",
        "                      #          [ 0.  1.]]\"\n",
        "\n",
        "e = np.random.random((2,2))  # Create an array filled with random values\n",
        "print(e)                     # Might print \"[[ 0.42  0.42]\n",
        "                             #               [ 0.42  0.42]]\""
      ]
    },
    {
      "cell_type": "code",
      "execution_count": null,
      "metadata": {
        "id": "BIDDmnEUpSu9"
      },
      "outputs": [],
      "source": [
        "f = np.arange(5)  # Create an array with the values from 0 to 4\n",
        "print(f)          # Prints \"[0 1 2 3 4]\"\n",
        "\n",
        "g = np.arange(4.2, 7.1, 0.5)  # Create an array with the values from 4.2 to\n",
        "                              # 7.1 on steps of 0.5\n",
        "print(g)                      # Prints \"[4.2 4.7 5.2 5.7 6.2 6.7]\"\n",
        "\n",
        "h = np.linspace(10, 20, 5)  # Create an array with 5 equally spaced values\n",
        "                            # between 10 and 20\n",
        "print(h)                    # Prints \"[[10. 12.5 15. 17.5 20.]\""
      ]
    },
    {
      "cell_type": "markdown",
      "metadata": {
        "id": "fL3IcWb9HLZh"
      },
      "source": [
        "You can read about other methods of array creation in [the documentation](http://docs.scipy.org/doc/numpy/user/basics.creation.html#arrays-creation).\n",
        "\n",
        "\n"
      ]
    },
    {
      "cell_type": "markdown",
      "metadata": {
        "id": "ZP3adEejHLbg"
      },
      "source": [
        "## Array indexing\n",
        "\n",
        "Numpy offers several ways to index into arrays.\n"
      ]
    },
    {
      "cell_type": "markdown",
      "metadata": {
        "id": "hNre5vb1HLeT"
      },
      "source": [
        "**Slicing:** Similar to Python lists, numpy arrays can be sliced. Since arrays may be multidimensional, you must specify a slice for each dimension of the array:"
      ]
    },
    {
      "cell_type": "code",
      "execution_count": 25,
      "metadata": {
        "id": "KxyKDBkpBDgm"
      },
      "outputs": [
        {
          "name": "stdout",
          "output_type": "stream",
          "text": [
            "[[[ 0  1  2  3]\n",
            "  [ 4  5  6  7]\n",
            "  [ 8  9 10 11]\n",
            "  [12 13 14 15]]\n",
            "\n",
            " [[16 17 18 19]\n",
            "  [20 21 22 23]\n",
            "  [24 25 26 27]\n",
            "  [28 29 30 31]]\n",
            "\n",
            " [[32 33 34 35]\n",
            "  [36 37 38 39]\n",
            "  [40 41 42 43]\n",
            "  [44 45 46 47]]\n",
            "\n",
            " [[48 49 50 51]\n",
            "  [52 53 54 55]\n",
            "  [56 57 58 59]\n",
            "  [60 61 62 63]]]\n"
          ]
        }
      ],
      "source": [
        "x = np.arange(64)\n",
        "x = np.reshape(x,(4,4,4))\n",
        "print(x)\n"
      ]
    },
    {
      "cell_type": "code",
      "execution_count": 26,
      "metadata": {
        "id": "E_HNmFKkBTW2"
      },
      "outputs": [
        {
          "name": "stdout",
          "output_type": "stream",
          "text": [
            "[ 3 11]\n"
          ]
        }
      ],
      "source": [
        "print(x[0,::2,3]) # start : end : stepsize\n",
        "# ::stepsize means start from beginning to the end with stepsize\n",
        "# considering x as a big matrix which includes four matrices"
      ]
    },
    {
      "cell_type": "code",
      "execution_count": 27,
      "metadata": {
        "id": "2fgnkDudCzA-"
      },
      "outputs": [
        {
          "name": "stdout",
          "output_type": "stream",
          "text": [
            "[[ 0  1  2  3]\n",
            " [ 4  5  6  7]\n",
            " [ 8  9 10 11]\n",
            " [12 13 14 15]]\n"
          ]
        }
      ],
      "source": [
        "x = np.arange(16)\n",
        "x = np.reshape(x, (4,4))\n",
        "print(x)"
      ]
    },
    {
      "cell_type": "code",
      "execution_count": 28,
      "metadata": {
        "id": "QgnWKttcC-k3"
      },
      "outputs": [
        {
          "name": "stdout",
          "output_type": "stream",
          "text": [
            "[[0 1 2 3]] (1, 4)\n"
          ]
        }
      ],
      "source": [
        "print(x[0:1,:], x[0:1,:].shape)"
      ]
    },
    {
      "cell_type": "code",
      "execution_count": 29,
      "metadata": {
        "id": "5W5R9SEpKdGc"
      },
      "outputs": [
        {
          "name": "stdout",
          "output_type": "stream",
          "text": [
            "[[ 1  2  3  4]\n",
            " [ 6  6  7  8]\n",
            " [ 9 10 11 12]]\n"
          ]
        }
      ],
      "source": [
        "# Create the following rank 2 array with shape (3, 4)\n",
        "# [[ 1  2  3  4]\n",
        "#  [ 5  6  7  8]\n",
        "#  [ 9 10 11 12]]\n",
        "a = np.array([[1, 2, 3, 4],[6, 6, 7, 8], [9, 10, 11, 12]])\n",
        "print(a)"
      ]
    },
    {
      "cell_type": "code",
      "execution_count": 30,
      "metadata": {
        "id": "d3OLrEtdpSu-"
      },
      "outputs": [
        {
          "name": "stdout",
          "output_type": "stream",
          "text": [
            "[[2 3]\n",
            " [6 7]]\n"
          ]
        }
      ],
      "source": [
        "# Use slicing to pull out the subarray consisting of the first 2 rows\n",
        "# and columns 1 and 2; b is the following array of shape (2, 2):\n",
        "# [[2 3]\n",
        "#  [6 7]]\n",
        "b = a[:2, 1:3]\n",
        "print(b)"
      ]
    },
    {
      "cell_type": "code",
      "execution_count": 31,
      "metadata": {
        "id": "0RkIlM9epSu_"
      },
      "outputs": [
        {
          "name": "stdout",
          "output_type": "stream",
          "text": [
            "2\n"
          ]
        }
      ],
      "source": [
        "# A slice of an array is a view into the same data, so modifying it\n",
        "# will modify the original array.\n",
        "print(a[0, 1])   # Prints \"2\"\n",
        "b[0, 0] = 77     # b[0, 0] is the same piece of data as a[0, 1]"
      ]
    },
    {
      "cell_type": "markdown",
      "metadata": {
        "id": "_ZatL05dKdek"
      },
      "source": [
        "You can also mix integer indexing with slice indexing. However, doing so will yield an array of lower rank than the original array. Note that this is quite different from the way that MATLAB handles array slicing:"
      ]
    },
    {
      "cell_type": "code",
      "execution_count": 32,
      "metadata": {
        "id": "M73l28jZKmE9"
      },
      "outputs": [],
      "source": [
        "# Create the following rank 2 array with shape (3, 4)\n",
        "# [[ 1  2  3  4]\n",
        "#  [ 5  6  7  8]\n",
        "#  [ 9 10 11 12]]\n",
        "a = np.array([[1,2,3,4], [5,6,7,8], [9,10,11,12]])"
      ]
    },
    {
      "cell_type": "code",
      "execution_count": 33,
      "metadata": {
        "id": "3Bw_W2mFpSu_"
      },
      "outputs": [
        {
          "name": "stdout",
          "output_type": "stream",
          "text": [
            "[5 6 7 8] (4,)\n",
            "[[5 6 7 8]] (1, 4)\n"
          ]
        }
      ],
      "source": [
        "\n",
        "# Two ways of accessing the data in the middle row of the array.\n",
        "# Mixing integer indexing with slices yields an array of lower rank,\n",
        "# while using only slices yields an array of the same rank as the\n",
        "# original array:\n",
        "row_r1 = a[1, :]    # Rank 1 view of the second row of a\n",
        "row_r2 = a[1:2, :]  # Rank 2 view of the second row of a\n",
        "print(row_r1, row_r1.shape)  # Prints \"[5 6 7 8] (4,)\"\n",
        "print(row_r2, row_r2.shape)  # Prints \"[[5 6 7 8]] (1, 4)\""
      ]
    },
    {
      "cell_type": "code",
      "execution_count": 34,
      "metadata": {
        "id": "j5d7arI5pSu_"
      },
      "outputs": [
        {
          "name": "stdout",
          "output_type": "stream",
          "text": [
            "[ 2  6 10] (3,)\n",
            "[[ 2]\n",
            " [ 6]\n",
            " [10]] (3, 1)\n"
          ]
        }
      ],
      "source": [
        "# We can make the same distinction when accessing columns of an array:\n",
        "col_r1 = a[:, 1]\n",
        "col_r2 = a[:, 1:2]\n",
        "print(col_r1, col_r1.shape)  # Prints \"[ 2  6 10] (3,)\"\n",
        "print(col_r2, col_r2.shape)  # Prints \"[[ 2]\n",
        "                             #          [ 6]\n",
        "                             #          [10]] (3, 1)\""
      ]
    },
    {
      "cell_type": "markdown",
      "metadata": {
        "id": "kCGnU0xRKdgi"
      },
      "source": [
        "**Integer array indexing:** When you index into numpy arrays using slicing, the resulting array view will always be a subarray of the original array. In contrast, integer array indexing allows you to construct arbitrary arrays using the data from another array. Here is an example:"
      ]
    },
    {
      "cell_type": "code",
      "execution_count": 35,
      "metadata": {
        "id": "YGWmeO2MKsyZ"
      },
      "outputs": [
        {
          "name": "stdout",
          "output_type": "stream",
          "text": [
            "[1 4 5]\n",
            "[1 4 5]\n",
            "[2 2]\n",
            "[2 2]\n"
          ]
        }
      ],
      "source": [
        "a = np.array([[1,2], [3, 4], [5, 6]])\n",
        "\n",
        "# An example of integer array indexing.\n",
        "# The returned array will have shape (3,) and\n",
        "print(a[[0, 1, 2], [0, 1, 0]])  # Prints \"[1 4 5]\"\n",
        "\n",
        "# The above example of integer array indexing is equivalent to this:\n",
        "print(np.array([a[0, 0], a[1, 1], a[2, 0]]))  # Prints \"[1 4 5]\"\n",
        "\n",
        "# When using integer array indexing, you can reuse the same\n",
        "# element from the source array:\n",
        "print(a[[0, 0], [1, 1]])  # Prints \"[2 2]\"\n",
        "\n",
        "# Equivalent to the previous integer array indexing example\n",
        "print(np.array([a[0, 1], a[0, 1]]))  # Prints \"[2 2]\""
      ]
    },
    {
      "cell_type": "markdown",
      "metadata": {
        "id": "kgsBsZFOKdiY"
      },
      "source": [
        "One useful trick with integer array indexing is selecting or mutating one element from each row of a matrix:"
      ]
    },
    {
      "cell_type": "code",
      "execution_count": 36,
      "metadata": {
        "id": "wJaHdpgIKxcv"
      },
      "outputs": [
        {
          "name": "stdout",
          "output_type": "stream",
          "text": [
            "[[ 1  2  3]\n",
            " [ 4  5  6]\n",
            " [ 7  8  9]\n",
            " [10 11 12]]\n",
            "[ 1  6  7 11]\n",
            "[[11  2  3]\n",
            " [ 4  5 16]\n",
            " [17  8  9]\n",
            " [10 21 12]]\n"
          ]
        }
      ],
      "source": [
        "# Create a new array from which we will select elements\n",
        "a = np.array([[1,2,3], [4,5,6], [7,8,9], [10, 11, 12]])\n",
        "\n",
        "print(a)  # prints \"array([[ 1,  2,  3],\n",
        "          #                [ 4,  5,  6],\n",
        "          #                [ 7,  8,  9],\n",
        "          #                [10, 11, 12]])\"\n",
        "\n",
        "# Create an array of indices\n",
        "b = np.array([0, 2, 0, 1])\n",
        "\n",
        "# Select one element from each row of a using the indices in b\n",
        "print(a[np.arange(4), b])  # Prints \"[ 1  6  7 11]\"\n",
        "\n",
        "# Mutate one element from each row of a using the indices in b\n",
        "a[np.arange(4), b] += 10\n",
        "\n",
        "print(a)  # prints \"array([[11,  2,  3],\n",
        "          #                [ 4,  5, 16],\n",
        "          #                [17,  8,  9],\n",
        "          #                [10, 21, 12]])"
      ]
    },
    {
      "cell_type": "markdown",
      "metadata": {
        "id": "rHanij6eKdj9"
      },
      "source": [
        "**Boolean array indexing:** Boolean array indexing lets you pick out arbitrary elements of an array. Frequently this type of indexing is used to select the elements of an array that satisfy some condition. Here is an example:"
      ]
    },
    {
      "cell_type": "code",
      "execution_count": 37,
      "metadata": {
        "id": "tGrDjDZ4D0sF"
      },
      "outputs": [
        {
          "name": "stdout",
          "output_type": "stream",
          "text": [
            "[[ 0  1  2  3]\n",
            " [ 4  5  6  7]\n",
            " [ 8  9 10 11]\n",
            " [12 13 14 15]]\n",
            "[ 0  2  4  6  8 10 12 14]\n"
          ]
        }
      ],
      "source": [
        "x = np.arange(16)\n",
        "x = np.reshape(x, (4,4))\n",
        "print(x)\n",
        "\n",
        "\n",
        "y = x[x%2==0]\n",
        "print(y)"
      ]
    },
    {
      "cell_type": "code",
      "execution_count": 38,
      "metadata": {
        "id": "Iw_M3zy6K4hg"
      },
      "outputs": [
        {
          "name": "stdout",
          "output_type": "stream",
          "text": [
            "[[False False]\n",
            " [ True  True]\n",
            " [ True  True]]\n",
            "[3 4 5 6]\n",
            "[3 4 5 6]\n"
          ]
        }
      ],
      "source": [
        "a = np.array([[1,2], [3, 4], [5, 6]])\n",
        "\n",
        "bool_idx = (a > 2)   # Find the elements of a that are bigger than 2;\n",
        "                     # this returns a numpy array of Booleans of the same\n",
        "                     # shape as a, where each slot of bool_idx tells\n",
        "                     # whether that element of a is > 2.\n",
        "\n",
        "print(bool_idx)      # Prints \"[[False False]\n",
        "                     #          [ True  True]\n",
        "                     #          [ True  True]]\"\n",
        "\n",
        "# We use boolean array indexing to construct a rank 1 array\n",
        "# consisting of the elements of a corresponding to the True values\n",
        "# of bool_idx\n",
        "print(a[bool_idx])  # Prints \"[3 4 5 6]\"\n",
        "\n",
        "# We can do all of the above in a single concise statement:\n",
        "print(a[a > 2])     # Prints \"[3 4 5 6]\""
      ]
    },
    {
      "cell_type": "markdown",
      "metadata": {
        "id": "9rCZNHDEKdlk"
      },
      "source": [
        "For brevity we have left out a lot of details about numpy array indexing; if you want to know more you should read [the documentation](http://docs.scipy.org/doc/numpy/reference/arrays.indexing.html)."
      ]
    },
    {
      "cell_type": "markdown",
      "metadata": {
        "id": "c8Dkf-KNKdtT"
      },
      "source": [
        "## Datatypes\n",
        "\n",
        "Every numpy array is a grid of elements of the same type. Numpy provides a large set of numeric datatypes that you can use to construct arrays. Numpy tries to guess a datatype when you create an array, but functions that construct arrays usually also include an optional argument to explicitly specify the datatype. Here is an example:"
      ]
    },
    {
      "cell_type": "code",
      "execution_count": 39,
      "metadata": {
        "id": "PWkObTs4LMDT"
      },
      "outputs": [
        {
          "name": "stdout",
          "output_type": "stream",
          "text": [
            "int32\n",
            "float64\n",
            "int64\n"
          ]
        }
      ],
      "source": [
        "x = np.array([1, 2])   # Let numpy choose the datatype\n",
        "print(x.dtype)         # Prints \"int64\"\n",
        "\n",
        "x = np.array([1.0, 2.0])   # Let numpy choose the datatype\n",
        "print(x.dtype)             # Prints \"float64\"\n",
        "\n",
        "x = np.array([1, 2], dtype=np.int64)   # Force a particular datatype\n",
        "print(x.dtype)                         # Prints \"int64\""
      ]
    },
    {
      "cell_type": "markdown",
      "metadata": {
        "id": "SHhMN-nuKdvS"
      },
      "source": [
        "You can read all about numpy datatypes in [the documentation](http://docs.scipy.org/doc/numpy/reference/arrays.dtypes.html)."
      ]
    },
    {
      "cell_type": "markdown",
      "metadata": {
        "id": "vYPN5Na6Kdx7"
      },
      "source": [
        "## Array math\n",
        "\n",
        "Basic mathematical functions operate elementwise on arrays, and are available both as operator overloads and as functions in the numpy module:"
      ]
    },
    {
      "cell_type": "code",
      "execution_count": 40,
      "metadata": {
        "id": "OM_hJdJjLZWV"
      },
      "outputs": [
        {
          "name": "stdout",
          "output_type": "stream",
          "text": [
            "[[ 6.  8.]\n",
            " [10. 12.]]\n",
            "[[ 6.  8.]\n",
            " [10. 12.]]\n"
          ]
        }
      ],
      "source": [
        "x = np.array([[1,2],[3,4]], dtype=np.float64)\n",
        "y = np.array([[5,6],[7,8]], dtype=np.float64)\n",
        "\n",
        "# Elementwise sum; both produce the array\n",
        "# [[ 6.0  8.0]\n",
        "#  [10.0 12.0]]\n",
        "print(x + y)\n",
        "print(np.add(x, y))"
      ]
    },
    {
      "cell_type": "code",
      "execution_count": null,
      "metadata": {
        "id": "PnhbaBcupSvF"
      },
      "outputs": [],
      "source": [
        "# Elementwise difference; both produce the array\n",
        "# [[-4.0 -4.0]\n",
        "#  [-4.0 -4.0]]\n",
        "print(x - y)\n",
        "print(np.subtract(x, y))"
      ]
    },
    {
      "cell_type": "code",
      "execution_count": null,
      "metadata": {
        "id": "nzblLx-gpSvG"
      },
      "outputs": [],
      "source": [
        "# Elementwise product; both produce the array\n",
        "# [[ 5.0 12.0]\n",
        "#  [21.0 32.0]]\n",
        "print(x * y)\n",
        "print(np.multiply(x, y))"
      ]
    },
    {
      "cell_type": "code",
      "execution_count": null,
      "metadata": {
        "id": "IizwEpiupSvG"
      },
      "outputs": [],
      "source": [
        "# Elementwise division; both produce the array\n",
        "# [[ 0.2         0.33333333]\n",
        "#  [ 0.42857143  0.5       ]]\n",
        "print(x / y)\n",
        "print(np.divide(x, y))\n",
        "\n",
        "# Elementwise square root; produces the array\n",
        "# [[ 1.          1.41421356]\n",
        "#  [ 1.73205081  2.        ]]\n",
        "print(np.sqrt(x))"
      ]
    },
    {
      "cell_type": "markdown",
      "metadata": {
        "id": "7zvKFWkxHLia"
      },
      "source": [
        "Note that unlike MATLAB, **`*`** is elementwise multiplication, not matrix multiplication. We instead use the **`dot`** function to compute inner products of vectors, to multiply a vector by a matrix, and to multiply matrices. **`dot`** is available both as a function in the numpy module and as an instance method of array objects:"
      ]
    },
    {
      "cell_type": "code",
      "execution_count": 41,
      "metadata": {
        "id": "0UbXZf_uMBA5"
      },
      "outputs": [
        {
          "name": "stdout",
          "output_type": "stream",
          "text": [
            "219\n",
            "219\n"
          ]
        }
      ],
      "source": [
        "x = np.array([[1,2],[3,4]])\n",
        "y = np.array([[5,6],[7,8]])\n",
        "\n",
        "v = np.array([9,10])\n",
        "w = np.array([11, 12])\n",
        "\n",
        "# Inner product of vectors; both produce 219\n",
        "print(v.dot(w))\n",
        "print(np.dot(v, w))"
      ]
    },
    {
      "cell_type": "code",
      "execution_count": 42,
      "metadata": {
        "id": "WNdNJseVpSvH"
      },
      "outputs": [
        {
          "name": "stdout",
          "output_type": "stream",
          "text": [
            "(2, 2)\n",
            "(2,)\n",
            "[29 67]\n",
            "[29 67]\n",
            "(2,)\n"
          ]
        }
      ],
      "source": [
        "print(x.shape)\n",
        "print(v.shape)\n",
        "# Matrix / vector product; both produce the rank 1 array [29 67]\n",
        "print(x.dot(v))\n",
        "print(np.dot(x, v))\n",
        "\n",
        "print(np.dot(x, v).shape)"
      ]
    },
    {
      "cell_type": "code",
      "execution_count": 43,
      "metadata": {
        "id": "auGWn1NBpSvH"
      },
      "outputs": [
        {
          "name": "stdout",
          "output_type": "stream",
          "text": [
            "[[19 22]\n",
            " [43 50]]\n",
            "[[19 22]\n",
            " [43 50]]\n",
            "(2, 2)\n"
          ]
        }
      ],
      "source": [
        "# Matrix / matrix product; both produce the rank 2 array\n",
        "# [[19 22]\n",
        "#  [43 50]]\n",
        "print(x.dot(y))\n",
        "print(np.dot(x, y))\n",
        "print(np.dot(x, y).shape)"
      ]
    },
    {
      "cell_type": "markdown",
      "metadata": {
        "id": "WRHKGXRVMGbk"
      },
      "source": [
        "Numpy provides many useful functions for performing computations on arrays; one of the most useful is **`sum`**:"
      ]
    },
    {
      "cell_type": "code",
      "execution_count": 44,
      "metadata": {
        "id": "47LCxJPxMNd3"
      },
      "outputs": [
        {
          "name": "stdout",
          "output_type": "stream",
          "text": [
            "10\n",
            "[4 6]\n",
            "[3 7]\n"
          ]
        }
      ],
      "source": [
        "x = np.array([[1,2],[3,4]])\n",
        "\n",
        "print(np.sum(x))  # Compute sum of all elements; prints \"10\"\n",
        "print(np.sum(x, axis=0))  # Compute sum of each column; prints \"[4 6]\"\n",
        "print(np.sum(x, axis=1))  # Compute sum of each row; prints \"[3 7]\""
      ]
    },
    {
      "cell_type": "markdown",
      "metadata": {
        "id": "rvOL11EgMGdr"
      },
      "source": [
        "You can find the full list of mathematical functions provided by numpy in [the documentation](http://docs.scipy.org/doc/numpy/reference/routines.math.html)."
      ]
    },
    {
      "cell_type": "markdown",
      "metadata": {
        "id": "OaGFNFw7MGj9"
      },
      "source": [
        "Apart from computing mathematical functions using arrays, we frequently need to reshape or otherwise manipulate data in arrays. The simplest example of this type of operation is transposing a matrix; to transpose a matrix, simply use the **`T`** attribute of an array object:"
      ]
    },
    {
      "cell_type": "code",
      "execution_count": 45,
      "metadata": {
        "id": "Z2sqy0adMhQn"
      },
      "outputs": [
        {
          "name": "stdout",
          "output_type": "stream",
          "text": [
            "[[1 2]\n",
            " [3 4]]\n",
            "[[1 3]\n",
            " [2 4]]\n",
            "[1 2 3]\n",
            "[1 2 3]\n"
          ]
        }
      ],
      "source": [
        "x = np.array([[1,2], [3,4]])\n",
        "print(x)    # Prints \"[[1 2]\n",
        "            #          [3 4]]\"\n",
        "print(x.T)  # Prints \"[[1 3]\n",
        "            #          [2 4]]\"\n",
        "\n",
        "# Note that taking the transpose of a rank 1 array does nothing:\n",
        "v = np.array([1,2,3])\n",
        "print(v)    # Prints \"[1 2 3]\"\n",
        "print(v.T)  # Prints \"[1 2 3]\""
      ]
    },
    {
      "cell_type": "markdown",
      "metadata": {
        "id": "d7Q7Gj3d2jTH"
      },
      "source": [
        "Another example is the reshaping function **`np.reshape`**"
      ]
    },
    {
      "cell_type": "code",
      "execution_count": null,
      "metadata": {
        "id": "6-f9-MGd2tHL"
      },
      "outputs": [],
      "source": [
        "x = np.arange(12)\n",
        "y = x.reshape((3,4))\n",
        "\n",
        "print(x)    # Prints \"[ 0  1  2  3  4  5  6  7  8  9 10 11]\"\n",
        "print(y)    # Prints \"[[ 0  1  2  3]\n",
        "            #          [ 4  5  6  7]\n",
        "            #          [ 8  9 10 11]]\""
      ]
    },
    {
      "cell_type": "markdown",
      "metadata": {
        "id": "obvkROJjMGl5"
      },
      "source": [
        "Numpy provides many more functions for manipulating arrays; you can see the full list in [the documentation](http://docs.scipy.org/doc/numpy/reference/routines.array-manipulation.html)."
      ]
    },
    {
      "cell_type": "markdown",
      "metadata": {
        "id": "C7XHR10eMGij"
      },
      "source": [
        "## Broadcasting\n",
        "Broadcasting is a powerful mechanism that allows numpy to work with arrays of different shapes when performing arithmetic operations. Frequently we have a smaller array and a larger array, and we want to use the smaller array multiple times to perform some operation on the larger array."
      ]
    },
    {
      "cell_type": "code",
      "execution_count": 48,
      "metadata": {
        "id": "pKoR1grVS7s0"
      },
      "outputs": [
        {
          "name": "stdout",
          "output_type": "stream",
          "text": [
            "(2,) (3,)\n",
            "(2, 1) (1, 3)\n",
            "[[1]\n",
            " [2]] [[ 3  8 10]]\n",
            "[[ 4  9 11]\n",
            " [ 5 10 12]]\n",
            "[[-2 -7 -9]\n",
            " [-1 -6 -8]]\n"
          ]
        }
      ],
      "source": [
        "# broadcasting extends both matrices to be of equal size\n",
        "\n",
        "import numpy as np\n",
        "x = np.array([1, 2])\n",
        "y = np.array([3, 8, 10])\n",
        "print(x.shape, y.shape)\n",
        "ax = x[:,None]\n",
        "ay = y[None,:]\n",
        "print(ax.shape, ay.shape)\n",
        "print(ax, ay)\n",
        "print(ax+ay)\n",
        "print(ax-ay)"
      ]
    },
    {
      "cell_type": "code",
      "execution_count": 51,
      "metadata": {
        "id": "jTq2_5YxS89z"
      },
      "outputs": [
        {
          "name": "stdout",
          "output_type": "stream",
          "text": [
            "25.28841257095337\n"
          ]
        }
      ],
      "source": [
        "import numpy as np\n",
        "import time\n",
        "N = 10000\n",
        "x = np.random.rand(N)\n",
        "y = np.random.rand(N)\n",
        "#print(x.shape, y.shape)\n",
        "\n",
        "# create matrix z, so that the ith row and jth column element is y[i]-x[j]\n",
        "# this can be very slow when N is large\n",
        "z = np.zeros((N, N))\n",
        "start = time.time()\n",
        "for i in range(N):\n",
        "  for j in range(N):\n",
        "    z[i, j] = y[i]-x[j]\n",
        "\n",
        "end = time.time()\n",
        "print(end-start)\n"
      ]
    },
    {
      "cell_type": "code",
      "execution_count": 50,
      "metadata": {
        "id": "NK8euj_KS896"
      },
      "outputs": [
        {
          "name": "stdout",
          "output_type": "stream",
          "text": [
            "0.15706801414489746\n",
            "False\n",
            "0.11994552612304688 (10000,) (10000,) (10000, 1) (1, 10000) (10000, 10000) (10000, 10000)\n",
            "False\n",
            "(10000,) (10000, 10000) (1, 10000)\n"
          ]
        }
      ],
      "source": [
        "import numpy as np\n",
        "import time\n",
        "# create matrix z, so that the ith row and jth column element is y[i]-x[j]\n",
        "# x ----> (1, N). y ----->(N,1)\n",
        "xb = x[np.newaxis, :] # you can also use None to expand the dimension x[None, :]\n",
        "yb = y[:, np.newaxis]\n",
        "start = time.time()\n",
        "# YB (N, N) - XB (N, N)\n",
        "zz = yb - xb\n",
        "end = time.time()\n",
        "print(end-start)\n",
        "print(np.all(zz==z))\n",
        "\n",
        "''' make sure you understand why the following does not give you the correct answer'''\n",
        "## what would be the entry in ith row, jth column in zzz if you use below code:\n",
        "xb = x[:, None]\n",
        "yb = y[None, :]\n",
        "start = time.time()\n",
        "zzz = yb - xb\n",
        "end = time.time()\n",
        "print(end-start, x.shape, y.shape, xb.shape, yb.shape, z.shape, zz.shape)\n",
        "print(np.all(zzz==z))\n",
        "#print(zzz)\n",
        "\n",
        "z4 = x-y[:,None]\n",
        "print(x.shape, z4.shape, y[None,:].shape)"
      ]
    },
    {
      "cell_type": "code",
      "execution_count": null,
      "metadata": {
        "id": "9RoiRWcE5K48"
      },
      "outputs": [],
      "source": [
        "x = np.array([[1,2,3], [4,5,6], [7,8,9], [10, 11, 12]])\n",
        "print(x.shape)\n",
        "print(x)\n",
        "v = np.array([1, 0, 1, 1]).reshape((4, 1))\n",
        "x + v\n",
        "print(v.shape)\n",
        "print(v)\n",
        "print(x+v)\n",
        "# add v[0] to the zeroth row in x, v[1] to the first ..."
      ]
    },
    {
      "cell_type": "code",
      "execution_count": null,
      "metadata": {
        "id": "yRVR5Pb3S896"
      },
      "outputs": [],
      "source": [
        "# do another exercise about broadcasting\n",
        "x = np.random.rand(3)\n",
        "ps = np.arange(4)\n",
        "# could you generate a matrix with 3 rows and 4 columans,\n",
        "# the ith column is x raised to power i: x**i\n",
        "x[:, None]**ps[None, :]"
      ]
    },
    {
      "cell_type": "markdown",
      "metadata": {
        "id": "V1fq2aDlMGhX"
      },
      "source": [
        "For example, suppose that we want to add a constant vector to each row of a matrix. We could do it like this:\n",
        "\n"
      ]
    },
    {
      "cell_type": "code",
      "execution_count": null,
      "metadata": {
        "id": "0FA9DOnUMuqn"
      },
      "outputs": [],
      "source": [
        "# We will add the vector v to each row of the matrix x,\n",
        "# storing the result in the matrix y\n",
        "x = np.array([[1,2,3], [4,5,6], [7,8,9], [10, 11, 12]])\n",
        "v = np.array([1, 0, 1])\n",
        "y = np.empty_like(x)   # Create an empty matrix with the same shape as x\n",
        "print(v)\n",
        "print(v.shape)\n",
        "# Add the vector v to each row of the matrix x with an explicit loop\n",
        "for i in range(4):\n",
        "    y[i, :] = x[i, :] + v\n",
        "\n",
        "# Now y is the following\n",
        "# [[ 2  2  4]\n",
        "#  [ 5  5  7]\n",
        "#  [ 8  8 10]\n",
        "#  [11 11 13]]\n",
        "print(y)"
      ]
    },
    {
      "cell_type": "markdown",
      "metadata": {
        "id": "IoYUrnqNMGgH"
      },
      "source": [
        "This works; however when the matrix **`x`** is very large, computing an explicit loop in Python could be slow. Note that adding the vector **`v`** to each row of the matrix **`x`** is equivalent to forming a matrix **`vv`** by stacking multiple copies of **`v`** vertically, then performing elementwise summation of **`x`** and **`vv`**. We could implement this approach like this:"
      ]
    },
    {
      "cell_type": "code",
      "execution_count": null,
      "metadata": {
        "id": "j4Rs4vBvMDnS"
      },
      "outputs": [],
      "source": [
        "# We will add the vector v to each row of the matrix x,\n",
        "# storing the result in the matrix y\n",
        "x = np.array([[1,2,3], [4,5,6], [7,8,9], [10, 11, 12]])\n",
        "v = np.array([1, 0, 1])\n",
        "vv = np.tile(v, (4, 1))   # Stack 4 copies of v on top of each other\n",
        "print(vv)                 # Prints \"[[1 0 1]\n",
        "                          #          [1 0 1]\n",
        "                          #          [1 0 1]\n",
        "                          #          [1 0 1]]\"\n",
        "y = x + vv  # Add x and vv elementwise\n",
        "print(y)  # Prints \"[[ 2  2  4\n",
        "          #          [ 5  5  7]\n",
        "          #          [ 8  8 10]\n",
        "          #          [11 11 13]]\""
      ]
    },
    {
      "cell_type": "markdown",
      "metadata": {
        "id": "eoB1pTRcNMX8"
      },
      "source": [
        "Numpy broadcasting allows us to perform this computation without actually creating multiple copies of **`v`**. Consider this version, using broadcasting:"
      ]
    },
    {
      "cell_type": "code",
      "execution_count": null,
      "metadata": {
        "id": "WlYVBcPu5aj3"
      },
      "outputs": [],
      "source": [
        "# We will add the vector v to each row of the matrix x,\n",
        "# storing the result in the matrix y\n",
        "x = np.array([[1,2,3], [4,5,6], [7,8,9], [10, 11, 12]])\n",
        "v = np.array([1, 0, 1])\n",
        "y = x + v  # Add v to each row of x using broadcasting\n",
        "print(y)  # Prints \"[[ 2  2  4]\n",
        "          #          [ 5  5  7]\n",
        "          #          [ 8  8 10]\n",
        "          #          [11 11 13]]\""
      ]
    },
    {
      "cell_type": "markdown",
      "metadata": {
        "id": "boF7TCv9NMaT"
      },
      "source": [
        "The line **`y = x + v`** works even though **`x`** has shape **`(4, 3)`** and **`v`** has shape **`(3,)`** due to broadcasting; this line works as if **`v`** actually had shape **`(4, 3)`**, where each row was a copy of **`v`**, and the sum was performed elementwise."
      ]
    },
    {
      "cell_type": "markdown",
      "metadata": {
        "id": "bE9moI9dNMkQ"
      },
      "source": [
        "Broadcasting two arrays together follows these rules:\n",
        "\n",
        "1. If the arrays do not have the same rank, prepend the shape of the lower rank array with 1s until both shapes have the same length.\n",
        "2. The two arrays are said to be compatible in a dimension if they have the same size in the dimension, or if one of the arrays has size 1 in that dimension.\n",
        "3. The arrays can be broadcast together if they are compatible in all dimensions.\n",
        "4. After broadcasting, each array behaves as if it had shape equal to the elementwise maximum of shapes of the two input arrays.\n",
        "5. In any dimension where one array had size 1 and the other array had size greater than 1, the first array behaves as if it were copied along that dimension"
      ]
    },
    {
      "cell_type": "markdown",
      "metadata": {
        "id": "SN1cPjfnNMo9"
      },
      "source": [
        "If this explanation does not make sense, try reading the explanation from [the documentation](http://docs.scipy.org/doc/numpy/user/basics.broadcasting.html) or [this explanation](http://wiki.scipy.org/EricsBroadcastingDoc).\n",
        "\n"
      ]
    },
    {
      "cell_type": "markdown",
      "metadata": {
        "id": "Cxu1XCbhNMtt"
      },
      "source": [
        "Functions that support broadcasting are known as universal functions. You can find the list of all universal functions in [the documentation](http://docs.scipy.org/doc/numpy/reference/ufuncs.html#available-ufuncs).\n",
        "\n"
      ]
    },
    {
      "cell_type": "markdown",
      "metadata": {
        "id": "tiZ-HvyoNMya"
      },
      "source": [
        "Here are some applications of broadcasting:\n",
        "\n"
      ]
    },
    {
      "cell_type": "code",
      "execution_count": null,
      "metadata": {
        "id": "ewfnyIAO5xU5"
      },
      "outputs": [],
      "source": [
        "# Compute outer product of vectors\n",
        "v = np.array([1,2,3])  # v has shape (3,)\n",
        "w = np.array([4,5])    # w has shape (2,)\n",
        "# To compute an outer product, we first reshape v to be a column\n",
        "# vector of shape (3, 1); we can then broadcast it against w to yield\n",
        "# an output of shape (3, 2), which is the outer product of v and w:\n",
        "# [[ 4  5]\n",
        "#  [ 8 10]\n",
        "#  [12 15]]\n",
        "print(np.reshape(v, (3, 1)) * w)\n",
        "\n",
        "# Add a vector to each row of a matrix\n",
        "x = np.array([[1,2,3], [4,5,6]])\n",
        "# x has shape (2, 3) and v has shape (3,) so they broadcast to (2, 3),\n",
        "# giving the following matrix:\n",
        "# [[2 4 6]\n",
        "#  [5 7 9]]\n",
        "print(x + v)\n",
        "\n",
        "# Add a vector to each column of a matrix\n",
        "# x has shape (2, 3) and w has shape (2,).\n",
        "# If we transpose x then it has shape (3, 2) and can be broadcast\n",
        "# against w to yield a result of shape (3, 2); transposing this result\n",
        "# yields the final result of shape (2, 3) which is the matrix x with\n",
        "# the vector w added to each column. Gives the following matrix:\n",
        "# [[ 5  6  7]\n",
        "#  [ 9 10 11]]\n",
        "print((x.T + w).T)\n",
        "# Another solution is to reshape w to be a column vector of shape (2, 1);\n",
        "# we can then broadcast it directly against x to produce the same\n",
        "# output.\n",
        "print(x + np.reshape(w, (2, 1)))\n",
        "\n",
        "# Multiply a matrix by a constant:\n",
        "# x has shape (2, 3). Numpy treats scalars as arrays of shape ();\n",
        "# these can be broadcast together to shape (2, 3), producing the\n",
        "# following array:\n",
        "# [[ 2  4  6]\n",
        "#  [ 8 10 12]]\n",
        "print(x * 2)"
      ]
    },
    {
      "cell_type": "markdown",
      "metadata": {
        "id": "iiGPh_Q-NM8O"
      },
      "source": [
        "Broadcasting typically makes your code more concise and faster, so you should strive to use it where possible.\n",
        "\n"
      ]
    },
    {
      "cell_type": "markdown",
      "metadata": {
        "id": "C_Nd3WocVEsv"
      },
      "source": [
        "## Numpy Documentation\n",
        "This brief overview has touched on many of the important things that you need to know about numpy, but is far from complete. Check out the [numpy reference](http://docs.scipy.org/doc/numpy/reference/) to find out much more about numpy."
      ]
    }
  ],
  "metadata": {
    "colab": {
      "private_outputs": true,
      "provenance": []
    },
    "kernelspec": {
      "display_name": "Python 3",
      "language": "python",
      "name": "python3"
    },
    "language_info": {
      "codemirror_mode": {
        "name": "ipython",
        "version": 3
      },
      "file_extension": ".py",
      "mimetype": "text/x-python",
      "name": "python",
      "nbconvert_exporter": "python",
      "pygments_lexer": "ipython3",
      "version": "3.10.6"
    }
  },
  "nbformat": 4,
  "nbformat_minor": 0
}
