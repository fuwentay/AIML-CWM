{
  "nbformat": 4,
  "nbformat_minor": 0,
  "metadata": {
    "colab": {
      "provenance": []
    },
    "kernelspec": {
      "name": "python3",
      "display_name": "Python 3"
    },
    "language_info": {
      "name": "python"
    },
    "accelerator": "GPU"
  },
  "cells": [
    {
      "cell_type": "markdown",
      "source": [
        "**Expectations:** run some stockastic optimisers to fit a linear model on the MNIST data set of hand written digits.\n",
        "\n",
        "\n",
        "**Note we have swapped from using numpy to torch, the syntax is very similar!**"
      ],
      "metadata": {
        "id": "_-O8HVTpkbZm"
      }
    },
    {
      "cell_type": "code",
      "execution_count": 43,
      "metadata": {
        "id": "Vqg8SEXq55vV"
      },
      "outputs": [],
      "source": [
        "import torch\n",
        "import torch.nn as nn\n",
        "import torch.nn.functional as F\n",
        "import torch.optim as optim\n",
        "import numpy as np\n",
        "import matplotlib.pyplot as plt\n",
        "from torchvision import models,transforms\n",
        "from torchvision.datasets import MNIST\n",
        "from torch.utils.data.sampler import SubsetRandomSampler"
      ]
    },
    {
      "cell_type": "code",
      "source": [
        "# GENERATE MNIST DATASET - no need to edit\n",
        "def mnist(batch_sz, valid_size=0.2, shuffle=True, random_seed=2000):\n",
        "    num_classes = 10\n",
        "    transform_train = transforms.Compose([\n",
        "                        transforms.ToTensor(),\n",
        "                    ])\n",
        "\n",
        "    transform_valid = transforms.Compose([\n",
        "                        transforms.ToTensor(),\n",
        "                    ])\n",
        "\n",
        "    transform_test = transforms.Compose([\n",
        "                        transforms.ToTensor(),\n",
        "                    ])\n",
        "\n",
        "    # Training dataset\n",
        "    train_data = MNIST(root='./datasets', train=True, download=True, transform=transform_train)\n",
        "    valid_data = MNIST(root='./datasets', train=True, download=True, transform=transform_valid)\n",
        "    num_train = len(train_data)\n",
        "    indices = list(range(num_train))\n",
        "    split = int(np.floor(valid_size * num_train))\n",
        "    if shuffle == True:\n",
        "        np.random.seed(random_seed)\n",
        "        np.random.shuffle(indices)\n",
        "    train_idx, valid_idx = indices[split:], indices[:split]\n",
        "\n",
        "    train_sampler = SubsetRandomSampler(train_idx)\n",
        "    valid_sampler = SubsetRandomSampler(valid_idx)\n",
        "    train_loader = torch.utils.data.DataLoader(train_data, batch_size=batch_sz, sampler=train_sampler,pin_memory=True)\n",
        "    valid_loader = torch.utils.data.DataLoader(valid_data, batch_size=batch_sz, sampler=valid_sampler,pin_memory=True)\n",
        "\n",
        "    # Test dataset\n",
        "    test_data = MNIST(root='./datasets', train=False, download=True, transform=transform_test)\n",
        "    test_loader = torch.utils.data.DataLoader(test_data,\n",
        "                                              batch_size=batch_sz, shuffle=False, pin_memory=True)\n",
        "\n",
        "    return train_loader, valid_loader, test_loader"
      ],
      "metadata": {
        "id": "BDiyOVBF6Ess"
      },
      "execution_count": 44,
      "outputs": []
    },
    {
      "cell_type": "code",
      "source": [
        "batch_size = 64 # this is batch size i.e. the number of rows in a batch of data, feel free try other values {32, 64, 128, 256, 512}\n",
        "\n",
        "input_dimension = 1 * 28 * 28 # MNIST images are grey scale images 28 pixels wide and high\n",
        "d = input_dimension # if you prefer a shorter varible name\n",
        "\n",
        "number_of_classes = 10 # number of class of MNIST data set C = {0,1,2,3,4,5,6,7,8,9}\n",
        "\n",
        "train_loader, valid_loader, test_loader=mnist(batch_size) # Create the data loaders these are objects that when looping over present batchs of data\n",
        "\n",
        "# lists to store loss and accuracy values\n",
        "sgd_train_losses, sgd_val_losses, sgd_train_acc, sgd_val_acc = [], [], [], []\n",
        "opt_train_losses, opt_val_losses, opt_train_acc, opt_val_acc = [], [], [], []\n",
        "adam_train_losses, adam_val_losses, adam_train_acc, adam_val_acc = [], [], [], []\n"
      ],
      "metadata": {
        "id": "5AaDsz2E6HsU"
      },
      "execution_count": 45,
      "outputs": []
    },
    {
      "cell_type": "code",
      "source": [
        "batch = next(iter(train_loader))\n",
        "batch_content = batch[0]\n",
        "print('dimension of single batch: ',batch_content.size())\n",
        "print('code will convert 28*28 image in a single 784 vector of pixel values on which we will fit a linear model')"
      ],
      "metadata": {
        "id": "LBjoQZbpAEI0",
        "colab": {
          "base_uri": "https://localhost:8080/"
        },
        "outputId": "42df6756-9cf4-4f05-8a8a-6a34a6d5e610"
      },
      "execution_count": 46,
      "outputs": [
        {
          "output_type": "stream",
          "name": "stdout",
          "text": [
            "dimension of single batch:  torch.Size([64, 1, 28, 28])\n",
            "code will convert 28*28 image in a single 784 vector of pixel values on which we will fit a linear model\n"
          ]
        }
      ]
    },
    {
      "cell_type": "code",
      "source": [
        "# Visulise some training examples\n",
        "k = 0\n",
        "h = 10\n",
        "f, axs = plt.subplots(1,h)\n",
        "\n",
        "for k in range(h):\n",
        "  img = batch_content[k,:,:,:].squeeze()\n",
        "  axs[k].imshow(img)\n",
        "  axs[k].axis(\"off\")"
      ],
      "metadata": {
        "id": "nrKlapwHLnwd",
        "colab": {
          "base_uri": "https://localhost:8080/",
          "height": 79
        },
        "outputId": "a5a540a0-4dd2-4dd9-fe21-82dda5dd5d7e"
      },
      "execution_count": 47,
      "outputs": [
        {
          "output_type": "display_data",
          "data": {
            "text/plain": [
              "<Figure size 640x480 with 10 Axes>"
            ],
            "image/png": "[encoded data removed]"
          },
          "metadata": {}
        }
      ]
    },
    {
      "cell_type": "markdown",
      "source": [
        "**Loss Function** for mnist digits we will use the cross entropy loss:\n",
        "\n",
        "\\begin{align*}\n",
        "\\text{Cross Entropy Loss} : \\frac{1}{N}\\sum_{z=1}^N \\ell_{z}(\\mathbf{y}_{z},\\mathbf{y}_z^*) = - \\frac{1}{N}\\sum_{z=1}^N\\sum_{c \\in C}y^*_{z,c} \\text{log}(y_{z,c}) = - \\frac{1}{N}\\sum_{z=1}^N\\mathbf{y}^*_{z} \\text{log}(\\text{softmax}(\\mathbf{x}_z \\mathbf{w})^\\top)\n",
        "\\end{align*}\n",
        "\n",
        "where $y^*_z$ is $c_z^{th}$ unit vector corresponding were $c_z$ is the class of the $z^{th}$ training example. For a concrete example is the class of the first example was 0, $y_0^* = [1,0,0,0,0,0,0,0,0,0]$.\n",
        "\n",
        "\\begin{align*}\n",
        "\\text{softmax}(\\mathbf{x}) = \\frac{\\exp{\\mathbf{x}}}{\\sum_i \\exp{x_i}}\n",
        "\\end{align*}"
      ],
      "metadata": {
        "id": "ldqlOxAC2u5a"
      }
    },
    {
      "cell_type": "code",
      "source": [
        "# By default the data loader gives you the class value as a integer rather than a one hot vector as show above\n",
        "\n",
        "def index_to_one_hot(y, classes=10):\n",
        "  b = len(y) # batchsize\n",
        "  one_hot = torch.zeros((b, classes), device=y.device)\n",
        "  xs = torch.arange(b, device=y.device)\n",
        "  one_hot[xs,y] = 1\n",
        "  return one_hot\n",
        "\n",
        "y = torch.randint(10,(10,))\n",
        "print('y',y)\n",
        "print('y',index_to_one_hot(y))"
      ],
      "metadata": {
        "colab": {
          "base_uri": "https://localhost:8080/"
        },
        "id": "EhPMnbbcO5aK",
        "outputId": "d75465c0-1229-4aa5-ddb2-0e486a0b88c2"
      },
      "execution_count": 48,
      "outputs": [
        {
          "output_type": "stream",
          "name": "stdout",
          "text": [
            "y tensor([6, 6, 9, 7, 6, 4, 1, 9, 1, 2])\n",
            "y tensor([[0., 0., 0., 0., 0., 0., 1., 0., 0., 0.],\n",
            "        [0., 0., 0., 0., 0., 0., 1., 0., 0., 0.],\n",
            "        [0., 0., 0., 0., 0., 0., 0., 0., 0., 1.],\n",
            "        [0., 0., 0., 0., 0., 0., 0., 1., 0., 0.],\n",
            "        [0., 0., 0., 0., 0., 0., 1., 0., 0., 0.],\n",
            "        [0., 0., 0., 0., 1., 0., 0., 0., 0., 0.],\n",
            "        [0., 1., 0., 0., 0., 0., 0., 0., 0., 0.],\n",
            "        [0., 0., 0., 0., 0., 0., 0., 0., 0., 1.],\n",
            "        [0., 1., 0., 0., 0., 0., 0., 0., 0., 0.],\n",
            "        [0., 0., 1., 0., 0., 0., 0., 0., 0., 0.]])\n"
          ]
        }
      ]
    },
    {
      "cell_type": "markdown",
      "source": [
        "**Question 1** Complete the CE loss function below:"
      ],
      "metadata": {
        "id": "J61UATmsZJJp"
      }
    },
    {
      "cell_type": "code",
      "source": [
        "Y = index_to_one_hot(y)\n",
        "X = torch.randn(10,10)\n",
        "\n",
        "print(X,Y)"
      ],
      "metadata": {
        "colab": {
          "base_uri": "https://localhost:8080/"
        },
        "id": "9Dho6kL81oSE",
        "outputId": "e9a937d2-b356-472c-b60f-f0c7571f9d45"
      },
      "execution_count": 49,
      "outputs": [
        {
          "output_type": "stream",
          "name": "stdout",
          "text": [
            "tensor([[-0.2865,  0.8780, -1.2534,  0.5896, -0.6657,  0.6447,  0.3928,  0.6472,\n",
            "         -0.9583,  0.4300],\n",
            "        [-0.0273,  0.4928, -0.1495, -1.0287,  1.1264, -1.0580, -1.8654, -0.0971,\n",
            "         -0.0683, -0.4108],\n",
            "        [ 1.1883, -2.5846, -0.9248,  1.2552, -1.1997, -1.0292,  0.2223, -0.6692,\n",
            "         -1.2879,  0.4237],\n",
            "        [-1.3363,  0.5056, -0.8551, -0.0811,  0.1807, -0.9400,  1.0675, -0.0992,\n",
            "          0.0222, -0.9218],\n",
            "        [-2.0912,  1.0832, -1.2710, -0.3550, -0.3002, -1.3745, -1.5836, -0.7946,\n",
            "          0.1866, -0.3463],\n",
            "        [-0.8471,  1.7224, -0.8937,  0.6601,  3.1761, -0.8990, -0.4385,  0.2912,\n",
            "         -0.5341, -1.6423],\n",
            "        [-1.7059,  1.5361,  0.1380, -0.1282,  1.2865, -1.3954,  0.6354,  0.5182,\n",
            "         -1.3695,  0.2264],\n",
            "        [-0.4981, -0.6334,  1.0009,  0.8270,  0.2509,  0.3211,  0.7740, -1.3163,\n",
            "         -0.8218,  0.3360],\n",
            "        [-0.2064, -0.2543, -1.0915,  1.3151, -1.1919,  1.0148, -1.0320, -1.5065,\n",
            "         -1.2468, -1.1798],\n",
            "        [ 1.5814,  0.9730,  0.8576,  0.4592,  0.1745,  3.3278,  0.3271, -0.3304,\n",
            "         -0.6824,  1.0597]]) tensor([[0., 0., 0., 0., 0., 0., 1., 0., 0., 0.],\n",
            "        [0., 0., 0., 0., 0., 0., 1., 0., 0., 0.],\n",
            "        [0., 0., 0., 0., 0., 0., 0., 0., 0., 1.],\n",
            "        [0., 0., 0., 0., 0., 0., 0., 1., 0., 0.],\n",
            "        [0., 0., 0., 0., 0., 0., 1., 0., 0., 0.],\n",
            "        [0., 0., 0., 0., 1., 0., 0., 0., 0., 0.],\n",
            "        [0., 1., 0., 0., 0., 0., 0., 0., 0., 0.],\n",
            "        [0., 0., 0., 0., 0., 0., 0., 0., 0., 1.],\n",
            "        [0., 1., 0., 0., 0., 0., 0., 0., 0., 0.],\n",
            "        [0., 0., 1., 0., 0., 0., 0., 0., 0., 0.]])\n"
          ]
        }
      ]
    },
    {
      "cell_type": "code",
      "source": [
        "# As before please complete the following two functions. Remember here X and y are batches of b examples.\n",
        "import torch.nn.functional as F\n",
        "\n",
        "def CE_loss(X, ystar, w):\n",
        "  # ----------------------------\n",
        "  # your code here\n",
        "  Softmax = F.softmax(X.matmul(w), dim=1)\n",
        "  loss = -torch.sum(ystar * torch.log(Softmax)) / X.size(0)\n",
        "  # ---------------------------\n",
        "  return float(loss)"
      ],
      "metadata": {
        "id": "oTqQkRPCMZLE"
      },
      "execution_count": 50,
      "outputs": []
    },
    {
      "cell_type": "code",
      "source": [
        "Y = index_to_one_hot(y)\n",
        "X = torch.randn(10,10)\n",
        "\n",
        "print('your function:',float(CE_loss(X,Y,torch.eye(10).float())))\n",
        "print('should match this function:',float(F.cross_entropy(X, y)))"
      ],
      "metadata": {
        "id": "NZILb_wNWSUz",
        "colab": {
          "base_uri": "https://localhost:8080/"
        },
        "outputId": "ab6c559a-f298-48a0-c358-a8d2e9394701"
      },
      "execution_count": 51,
      "outputs": [
        {
          "output_type": "stream",
          "name": "stdout",
          "text": [
            "your function: 2.6719393730163574\n",
            "should match this function: 2.6719391345977783\n"
          ]
        }
      ]
    },
    {
      "cell_type": "markdown",
      "source": [
        "**Question 2** the gradient of the CE loss is\n",
        "\n",
        "\\begin{equation}\n",
        "  \\nabla_\\ell(W) = -\\frac{1}{N} \\sum_{z=1}^N \\mathbf{x}_z ( \\mathbf{y}^*_{z} - \\text{softmax} (W^\\top\\mathbf{x}_z))\n",
        "\\end{equation}\n",
        "\n",
        "\n",
        "\n",
        "See if you can derive this,\n",
        "(**Hint** use the chain rule\n",
        "$\\frac{\\partial \\ell}{\\partial \\mathbf{w}_c} = \\sum_{z=1}^N \\sum_{i=1}^C (\\frac{\\partial \\ell}{\\partial \\hat{y}_{i,z}} \\frac{\\partial \\hat{y}_{i,z}}{\\partial \\mathbf{w}_c} )\n",
        "$, try setting $\\hat{y}_{i,z} = \\text{softmax}(\\mathbf{x}_z \\mathbf{w}_i)$)\n"
      ],
      "metadata": {
        "id": "PE-PjbJsYeXr"
      }
    },
    {
      "cell_type": "markdown",
      "source": [
        "* A:\n",
        "\n",
        "$\\frac{\\partial \\ell}{\\partial \\mathbf{w}_c} = \\sum_{z=1}^N \\sum_{i=1}^C (\\frac{\\partial \\ell}{\\partial \\hat{y}_{i,z}} \\frac{\\partial \\hat{y}_{i,z}}{\\partial \\mathbf{w}_c} )\n",
        "$ \\\\\n",
        "\n",
        "$\n",
        "\\frac{\\partial l}{\\partial \\hat{y}_{z,c}}=-\\frac{1}{N} \\frac{y^*_{z,c}}{\\hat{y}_{z,c}}\n",
        "$ \\\\\n",
        "\n",
        "$\n",
        "\\frac{\\partial \\hat{y_{z,c}}}{\\partial w_k}=\\hat{y_{z,c}}(δ_{c,k}-\\hat{y}_{z,k})\n",
        "$ \\\\\n",
        "\n",
        "$δ_{c,k}$ is the Kronecker delta which is 1 if c=k and 0 otherwise.\n",
        "\n",
        "$\\frac{\\partial \\ell}{\\partial \\mathbf{w}_c}=\\sum_{z=1}^N \\sum_{i=1}^C (-\\frac{1}{N} \\frac{y^*_{z,c}}{\\hat{y}_{z,c}})(\\hat{y_{z,c}}(δ_{c,k}-\\hat{y}_{z,k}))\n",
        "$ \\\\\n",
        "\n",
        "Since $y^*_{z,i}$ is 1 only when i is the correct class for example z, the summation over i simplifies, leading to:\n",
        "\n",
        "$\n",
        "\\frac{\\partial \\ell}{\\partial \\mathbf{w}_c} = -\\frac{1}{N}{∑^N_{z=1}{x_z (y^*_{z,c}-\\hat{y_{z,c}})}}\n",
        "$\n",
        "\n",
        "Thus,\n",
        "\n",
        "\\begin{equation}\n",
        "  \\nabla_\\ell(W) = -\\frac{1}{N} \\sum_{z=1}^N \\mathbf{x}_z ( \\mathbf{y}^*_{z} - \\text{softmax} (W^\\top\\mathbf{x}_z))\n",
        "\\end{equation}\n",
        "\n"
      ],
      "metadata": {
        "id": "z7PeUMEtCOV7"
      }
    },
    {
      "cell_type": "markdown",
      "source": [
        "**Question 3** complete the function to calculate the gradient of the CE loss below.\n"
      ],
      "metadata": {
        "id": "pa9NVhR87ZHH"
      }
    },
    {
      "cell_type": "code",
      "source": [
        "def grad_func(X, ystar, w):\n",
        "  n = X.size()[0]\n",
        "  # your code here\n",
        "  # ----------------------------\n",
        "  Softmax = F.softmax(X.matmul(w), dim=1)\n",
        "  error = ystar - Softmax\n",
        "  #grad = -torch.sum(X*error)/n\n",
        "  grad = - (X.T.matmul(error)) / n\n",
        "  # ----------------------------\n",
        "  return grad"
      ],
      "metadata": {
        "id": "svSFTEhVYGC8"
      },
      "execution_count": 52,
      "outputs": []
    },
    {
      "cell_type": "code",
      "source": [
        "grad_func(X,Y,torch.eye(10).float())"
      ],
      "metadata": {
        "colab": {
          "base_uri": "https://localhost:8080/"
        },
        "id": "ri7fcY87-b7i",
        "outputId": "2f5ed587-0dba-413c-87d2-67ff9104cdec"
      },
      "execution_count": 53,
      "outputs": [
        {
          "output_type": "execute_result",
          "data": {
            "text/plain": [
              "tensor([[ 9.4557e-02,  5.2770e-02,  3.7200e-02,  4.4066e-02,  2.2485e-02,\n",
              "          2.2651e-02, -2.7016e-01, -2.7461e-02,  4.0862e-02, -1.6966e-02],\n",
              "        [-1.2728e-02,  1.2941e-02,  1.4671e-01, -1.2172e-02, -7.5088e-02,\n",
              "         -1.0235e-02, -1.1849e-01, -3.2201e-02, -6.6620e-02,  1.6788e-01],\n",
              "        [ 1.0100e-01,  2.3374e-02,  4.5375e-02,  5.3365e-02, -1.0055e-01,\n",
              "          2.6372e-02, -1.5596e-01, -1.3097e-01,  3.4704e-02,  1.0329e-01],\n",
              "        [ 2.6018e-02, -7.5160e-03,  1.8290e-02,  2.4696e-02, -2.7350e-02,\n",
              "          9.8239e-04, -8.9147e-02,  6.7325e-02, -2.6859e-03, -1.0614e-02],\n",
              "        [-3.9055e-02, -3.4748e-01,  4.9605e-02,  1.7081e-02,  3.9862e-02,\n",
              "          4.8944e-03,  1.3841e-01,  1.6505e-01,  1.7856e-02, -4.6222e-02],\n",
              "        [-3.6476e-02,  2.0050e-01, -2.1663e-02, -3.8359e-02, -5.1314e-03,\n",
              "          8.9402e-04, -1.0792e-01, -3.6421e-02, -7.9317e-02,  1.2389e-01],\n",
              "        [ 2.5635e-02,  7.2531e-02, -1.6386e-01,  4.9615e-03,  1.0184e-01,\n",
              "         -3.0561e-04,  1.0088e-01, -9.4456e-02, -2.4871e-03, -4.4743e-02],\n",
              "        [ 7.0573e-02, -5.9068e-03,  1.0515e-02,  3.7722e-02,  4.2218e-02,\n",
              "          2.0341e-02, -3.3752e-01,  1.9634e-01,  7.7092e-02, -1.1137e-01],\n",
              "        [ 1.6722e-02,  6.4310e-02, -6.2865e-03,  7.9648e-03, -1.2451e-02,\n",
              "          1.0707e-02,  1.4292e-01, -2.8391e-02,  1.6499e-01, -3.6048e-01],\n",
              "        [ 2.0215e-02, -2.3823e-01, -2.5062e-02,  1.3037e-02,  4.6855e-02,\n",
              "         -7.8922e-03,  2.0693e-01, -1.1831e-01,  2.8307e-02,  7.4151e-02]])"
            ]
          },
          "metadata": {},
          "execution_count": 53
        }
      ]
    },
    {
      "cell_type": "code",
      "source": [
        "# useful function to calculate accuracy\n",
        "\n",
        "def accuracy(out, targets):\n",
        "    _, pred = torch.max(out, 1)\n",
        "    correct = torch.eq(pred, targets).sum()\n",
        "    acc = torch.mean(torch.eq(pred, targets).float())\n",
        "    return correct, float(100. * acc)"
      ],
      "metadata": {
        "id": "rS6Ny54b1UJD"
      },
      "execution_count": 54,
      "outputs": []
    },
    {
      "cell_type": "code",
      "source": [
        "def test(w, valid_loader): # function that evaluates loss on vaildation set\n",
        "    total_loss, total_correct, total_num = 0, 0, 0\n",
        "    for batch in valid_loader:\n",
        "      X,y = batch[0].to(device).view(batch[0].size()[0],input_dimension), batch[1].to(device)\n",
        "      Y = index_to_one_hot(y, classes=10)\n",
        "      loss_train = CE_loss(X, Y, w)\n",
        "      correct, acc = accuracy(X.mm(w), y)\n",
        "      total_correct += correct\n",
        "      total_loss += loss_train*X.size()[0]\n",
        "      total_num += X.size()[0]\n",
        "    return float(total_loss/total_num), float(total_correct/total_num * 100)"
      ],
      "metadata": {
        "id": "zBsY4v8uC9GJ"
      },
      "execution_count": 55,
      "outputs": []
    },
    {
      "cell_type": "markdown",
      "source": [
        "**Question 4** implement the SGD with momentum and experiment with with different batch sizes. What do you notice?"
      ],
      "metadata": {
        "id": "0tjm8UXs7kDS"
      }
    },
    {
      "cell_type": "code",
      "source": [
        "with torch.no_grad(): # in this exercise we will not use autograd you will have calculated gradient\n",
        "\n",
        "  # fixing a device to run the codes on\n",
        "  device = torch.device(\"cuda:0\")\n",
        "\n",
        "  w = torch.zeros(input_dimension,number_of_classes).to(device)\n",
        "  m = torch.zeros(input_dimension,number_of_classes).to(device)\n",
        "\n",
        "  eta = 1e-1\n",
        "  num_epochs = 10\n",
        "\n",
        "  mu = 0.9\n",
        "\n",
        "  for i in range(num_epochs):\n",
        "    total_loss, total_correct, total_num = 0, 0, 0\n",
        "    for batch in train_loader:\n",
        "      #extractign data and labels from batch\n",
        "      X,y = batch[0].to(device).view(batch[0].size()[0],input_dimension), batch[1].to(device)\n",
        "      Y = index_to_one_hot(y, classes=10)\n",
        "      # ----------------------------\n",
        "      # Optimisation -  Your code here\n",
        "\n",
        "      # Iteratively updating momentum velocity and the weights\n",
        "      m = mu*m - eta*grad_func(X,Y,w)\n",
        "      w += m\n",
        "\n",
        "      # ----------------------------\n",
        "      # track loss and accuracy after every step\n",
        "      loss_train = CE_loss(X, Y, w)\n",
        "      correct, acc = accuracy(X.mm(w), y)\n",
        "      total_correct += correct\n",
        "      total_loss += loss_train*X.size()[0]\n",
        "      total_num += X.size()[0]\n",
        "\n",
        "    # ----------------------------\n",
        "    # After each epoch track metrics\n",
        "    sgd_train_losses.append(float(total_loss/total_num))\n",
        "    sgd_train_acc.append(float(total_correct/total_num * 100))\n",
        "    val_loss, val_acc = test(w, valid_loader)\n",
        "    sgd_val_losses.append(val_loss)\n",
        "    sgd_val_acc.append(val_acc)\n",
        "    print('train loss: {:.2e} | train acc: {:.2f} | eta: {:.2f}'.format(float(total_loss/total_num), float(total_correct/total_num * 100), eta))\n",
        "    print('val loss: {:.2e} | val acc: {:.2f}'.format(val_loss, val_acc))\n",
        "    print('-'*50)\n",
        "    # ----------------------------\n",
        "    # Adjust the learning rate\n",
        "    eta *= 0.9"
      ],
      "metadata": {
        "id": "0Q_eeCRs8jhB",
        "colab": {
          "base_uri": "https://localhost:8080/"
        },
        "outputId": "edb2d474-6800-4f15-a020-6f13e0215701"
      },
      "execution_count": 56,
      "outputs": [
        {
          "output_type": "stream",
          "name": "stdout",
          "text": [
            "train loss: 3.63e-01 | train acc: 89.61 | eta: 0.10\n",
            "val loss: 3.16e-01 | val acc: 90.75\n",
            "--------------------------------------------------\n",
            "train loss: 3.02e-01 | train acc: 91.51 | eta: 0.09\n",
            "val loss: 3.26e-01 | val acc: 90.62\n",
            "--------------------------------------------------\n",
            "train loss: 2.91e-01 | train acc: 91.94 | eta: 0.08\n",
            "val loss: 2.99e-01 | val acc: 91.52\n",
            "--------------------------------------------------\n",
            "train loss: 2.81e-01 | train acc: 92.20 | eta: 0.07\n",
            "val loss: 3.00e-01 | val acc: 91.68\n",
            "--------------------------------------------------\n",
            "train loss: 2.76e-01 | train acc: 92.25 | eta: 0.07\n",
            "val loss: 3.09e-01 | val acc: 91.10\n",
            "--------------------------------------------------\n",
            "train loss: 2.71e-01 | train acc: 92.53 | eta: 0.06\n",
            "val loss: 2.97e-01 | val acc: 91.76\n",
            "--------------------------------------------------\n",
            "train loss: 2.67e-01 | train acc: 92.71 | eta: 0.05\n",
            "val loss: 3.00e-01 | val acc: 91.55\n",
            "--------------------------------------------------\n",
            "train loss: 2.63e-01 | train acc: 92.71 | eta: 0.05\n",
            "val loss: 2.95e-01 | val acc: 91.84\n",
            "--------------------------------------------------\n",
            "train loss: 2.60e-01 | train acc: 92.82 | eta: 0.04\n",
            "val loss: 2.98e-01 | val acc: 91.78\n",
            "--------------------------------------------------\n",
            "train loss: 2.59e-01 | train acc: 92.91 | eta: 0.04\n",
            "val loss: 2.92e-01 | val acc: 92.09\n",
            "--------------------------------------------------\n"
          ]
        }
      ]
    },
    {
      "cell_type": "code",
      "source": [
        "# plot stuff - reuse this cell for plotting bonus material too.\n",
        "f, axs = plt.subplots(2,2)\n",
        "axs[0,0].plot(np.arange(len(sgd_train_losses)),sgd_train_losses, 'red')\n",
        "axs[0,0].plot(np.arange(len(opt_train_losses)),opt_train_losses, 'blue')\n",
        "axs[0,0].plot(np.arange(len(adam_train_losses)),adam_train_losses, 'black')\n",
        "axs[0,0].set_ylabel('train losses')\n",
        "axs[0,1].plot(np.arange(len(sgd_train_acc)),sgd_train_acc, 'red')\n",
        "axs[0,1].plot(np.arange(len(opt_train_acc)),opt_train_acc, 'blue')\n",
        "axs[0,1].plot(np.arange(len(adam_train_acc)),adam_train_acc, 'black')\n",
        "axs[0,1].set_ylabel('train acc')\n",
        "axs[1,0].plot(np.arange(len(sgd_val_losses)),sgd_val_losses, 'red')\n",
        "axs[1,0].plot(np.arange(len(opt_val_losses)),opt_val_losses, 'blue')\n",
        "axs[1,0].plot(np.arange(len(adam_val_losses)),adam_val_losses, 'black')\n",
        "axs[1,0].set_ylabel('val losses')\n",
        "axs[1,1].plot(np.arange(len(sgd_val_acc)),sgd_val_acc, 'red')\n",
        "axs[1,1].plot(np.arange(len(opt_val_acc)),opt_val_acc, 'blue')\n",
        "axs[1,1].plot(np.arange(len(adam_val_acc)),adam_val_acc, 'black')\n",
        "axs[1,1].set_ylabel('val acc')"
      ],
      "metadata": {
        "id": "tn5Fce4rLnxc",
        "colab": {
          "base_uri": "https://localhost:8080/",
          "height": 449
        },
        "outputId": "81ffa47a-895d-403f-9612-efef4f701412"
      },
      "execution_count": 57,
      "outputs": [
        {
          "output_type": "execute_result",
          "data": {
            "text/plain": [
              "Text(0, 0.5, 'val acc')"
            ]
          },
          "metadata": {},
          "execution_count": 57
        },
        {
          "output_type": "display_data",
          "data": {
            "text/plain": [
              "<Figure size 640x480 with 4 Axes>"
            ],
            "image/png": "[encoded data removed]"
          },
          "metadata": {}
        }
      ]
    },
    {
      "cell_type": "code",
      "source": [
        "# We can visualise the learnt weights (one for each class) as images by reshapeing into 28x28 grids\n",
        "\n",
        "w_cpu = w.cpu().clone()\n",
        "print(w_cpu.size())\n",
        "\n",
        "f, axs = plt.subplots(1,number_of_classes)\n",
        "\n",
        "for k in range(h):\n",
        "  img = w_cpu[:,k].view(28,28)\n",
        "  axs[k].imshow(img)\n",
        "  axs[k].set_title(k)\n",
        "  axs[k].axis(\"off\")"
      ],
      "metadata": {
        "id": "FwVysM8b8jeK",
        "colab": {
          "base_uri": "https://localhost:8080/",
          "height": 118
        },
        "outputId": "d2082c7e-231f-4279-9296-0bef17d99914"
      },
      "execution_count": null,
      "outputs": [
        {
          "output_type": "stream",
          "name": "stdout",
          "text": [
            "torch.Size([784, 10])\n"
          ]
        },
        {
          "output_type": "display_data",
          "data": {
            "text/plain": [
              "<Figure size 640x480 with 10 Axes>"
            ],
            "image/png": "[encoded data removed]"
          },
          "metadata": {}
        }
      ]
    },
    {
      "cell_type": "markdown",
      "source": [
        "**###Optional###** -  Other optimisers and Adam"
      ],
      "metadata": {
        "id": "rAqPHmFgAG_M"
      }
    },
    {
      "cell_type": "markdown",
      "source": [
        "**###Optinional### Question 5** implement your some of the optimisers form ex1 and see how they perfrom in this setting? What differences do you notice?"
      ],
      "metadata": {
        "id": "eRS5dzHL_xA7"
      }
    },
    {
      "cell_type": "code",
      "source": [
        "with torch.no_grad(): # in this exersize we will not use autograd you will have calucated gradent\n",
        "\n",
        "  # fixing a device to run the codes on\n",
        "  device = torch.device(\"cuda:0\")\n",
        "\n",
        "  w = torch.zeros(input_dimension,number_of_classes).to(device)\n",
        "  m = torch.zeros(input_dimension,number_of_classes).to(device)\n",
        "\n",
        "  eta = 1e-1\n",
        "  num_epochs = 10\n",
        "\n",
        "  for i in range(num_epochs):\n",
        "    total_loss, total_correct, total_num = 0, 0, 0\n",
        "    for batch in train_loader:\n",
        "      #extractign data and labels from batch\n",
        "      X,y = batch[0].to(device).view(batch[0].size()[0],input_dimension), batch[1].to(device)\n",
        "      Y = index_to_one_hot(y, classes=10)\n",
        "      # ----------------------------\n",
        "      # Optimisation -  Your code here\n",
        "\n",
        "\n",
        "\n",
        "\n",
        "      # ----------------------------\n",
        "      # track loss and accuracy after every step\n",
        "      loss_train = CE_loss(X, Y, w)\n",
        "      correct, acc = accuracy(X.mm(w), y)\n",
        "      total_correct += correct\n",
        "      total_loss += loss_train*X.size()[0]\n",
        "      total_num += X.size()[0]\n",
        "\n",
        "    # ----------------------------\n",
        "    # After each epoch track metrics\n",
        "    opt_train_losses.append(float(total_loss/total_num))\n",
        "    opt_train_acc.append(float(total_correct/total_num * 100))\n",
        "    val_loss, val_acc = test(w, valid_loader)\n",
        "    opt_val_losses.append(val_loss)\n",
        "    opt_val_acc.append(val_acc)\n",
        "    print('train loss: {:.2e} | train acc: {:.2f} | eta: {:.2f}'.format(float(total_loss/total_num), float(total_correct/total_num * 100), eta))\n",
        "    print('val loss: {:.2e} | val acc: {:.2f}'.format(val_loss, val_acc))\n",
        "    print('-'*50)\n",
        "    # ----------------------------\n",
        "    # Adjust the learning rate\n",
        "    eta *= 0.9"
      ],
      "metadata": {
        "id": "uzC1Qjxa_nJ3"
      },
      "execution_count": null,
      "outputs": []
    },
    {
      "cell_type": "markdown",
      "source": [
        "**Adam** The Adam optimiser is an adeptive gradient method that uses exponial moving averages of previous gradients to estimates a good step size for each parameter. Thus it avoids the need for a learning rate schedule.\n",
        "\n",
        "remember $\\mathbf{m}$, $\\mathbf{v}$ and $\\mathbf{w}$ are vectors.\n",
        "\n",
        "\\begin{align*}\n",
        "  \\hat{\\mathbf{m}_k} &= \\frac{\\mathbf{m}_k}{1-\\beta_1^t},\\hspace{0.1cm} \\mathbf{m}_k \\leftarrow \\beta_1 \\mathbf{m}_{k-1} + (1-\\beta_1)\\nabla \\ell_{z_t}(\\mathbf{w}_t) \\\\\n",
        "  \\hat{\\mathbf{v}}_k &= \\frac{\\mathbf{v}_k}{1-\\beta_2^t},\\hspace{0.1cm} \\mathbf{v}_k \\leftarrow \\beta_2 \\mathbf{v}_{k-1} + (1-\\beta_2)\\nabla \\ell_{z_t}(\\mathbf{w}_t)^2 \\\\\n",
        "  \\mathbf{w}_{k+1} &\\leftarrow \\mathbf{w}_{k} - \\frac{\\eta}{\\sqrt{\\hat{\\mathbf{v}}_k}+\\epsilon} \\hat{\\mathbf{m}}_k \\\\\n",
        "\\end{align*}\n",
        "\n",
        "\n"
      ],
      "metadata": {
        "id": "bjLQporlZdAd"
      }
    },
    {
      "cell_type": "markdown",
      "source": [
        "**###Optinional### Question 6** implement the ADAM optimiser with $\\beta_1 = 0.9$,$\\beta_2 = 0.999$, $\\eta=0.001$ and run MNIST data set."
      ],
      "metadata": {
        "id": "USJc-v6577eB"
      }
    },
    {
      "cell_type": "code",
      "source": [
        "with torch.no_grad(): # in this exersize we will not use autograd you will have calucated gradent\n",
        "\n",
        "  # fixing a device to run the codes on\n",
        "  device = torch.device(\"cuda:0\")\n",
        "\n",
        "  w = torch.zeros(input_dimension,number_of_classes).to(device)\n",
        "  m = torch.zeros(input_dimension,number_of_classes).to(device)\n",
        "\n",
        "  eta = 1e-3\n",
        "  beta_1 = 0.9\n",
        "  beta_2 = 0.999\n",
        "  num_epochs = 10\n",
        "\n",
        "  for i in range(num_epochs):\n",
        "    total_loss, total_correct, total_num = 0, 0, 0\n",
        "    for batch in train_loader:\n",
        "      #extractign data and labels from batch\n",
        "      X,y = batch[0].to(device).view(batch[0].size()[0],input_dimension), batch[1].to(device)\n",
        "      Y = index_to_one_hot(y, classes=10)\n",
        "      # ----------------------------\n",
        "      # Optimisation -  Your code here\n",
        "\n",
        "\n",
        "\n",
        "\n",
        "      # ----------------------------\n",
        "      # track loss and accuracy after every step\n",
        "      loss_train = CE_loss(X, Y, w)\n",
        "      correct, acc = accuracy(X.mm(w), y)\n",
        "      total_correct += correct\n",
        "      total_loss += loss_train*X.size()[0]\n",
        "      total_num += X.size()[0]\n",
        "\n",
        "    # ----------------------------\n",
        "    # After each epoch track metrics\n",
        "    adam_train_losses.append(float(total_loss/total_num))\n",
        "    adam_train_acc.append(float(total_correct/total_num * 100))\n",
        "    val_loss, val_acc = test(w, valid_loader)\n",
        "    adam_val_losses.append(val_loss)\n",
        "    adam_val_acc.append(val_acc)\n",
        "    print('train loss: {:.2e} | train acc: {:.2f} | eta: {:.2f}'.format(float(total_loss/total_num), float(total_correct/total_num * 100), eta))\n",
        "    print('val loss: {:.2e} | val acc: {:.2f}'.format(val_loss, val_acc))\n",
        "    print('-'*50)"
      ],
      "metadata": {
        "id": "_sPdFp4x-ui9"
      },
      "execution_count": null,
      "outputs": []
    }
  ]
}