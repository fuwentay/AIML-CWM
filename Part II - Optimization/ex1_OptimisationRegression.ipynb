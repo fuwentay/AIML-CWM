{
  "nbformat": 4,
  "nbformat_minor": 0,
  "metadata": {
    "colab": {
      "provenance": []
    },
    "kernelspec": {
      "name": "python3",
      "display_name": "Python 3"
    },
    "language_info": {
      "name": "python"
    }
  },
  "cells": [
    {
      "cell_type": "markdown",
      "source": [
        "\n",
        "\n",
        "```\n",
        "# This is formatted as code\n",
        "```\n",
        "\n",
        "**Expectation:** find solution to MSE regression using GD, Line search, GD with Momentum and 2nd Order Method, and gradient free methods.\n"
      ],
      "metadata": {
        "id": "KF3EC4bjh9GZ"
      }
    },
    {
      "cell_type": "code",
      "metadata": {
        "colab": {
          "base_uri": "https://localhost:8080/",
          "height": 447
        },
        "id": "3AdxAZQ5EcKK",
        "outputId": "5edaf7c5-98ca-4196-8bbd-bf08127ccdef"
      },
      "source": [
        "#Linear Regression for general functions\n",
        "import numpy as np\n",
        "import numpy.linalg as la\n",
        "import matplotlib.pyplot as plt\n",
        "import math\n",
        "pi=math.pi\n",
        "\n",
        "data_set_size = 20\n",
        "noise_level = 0.3\n",
        "\n",
        "# generate 20 numbers from -1 to 1 with equal stepsize\n",
        "x=np.linspace(-1,1,data_set_size)\n",
        "\n",
        "# generate training target (noise contaminated!)\n",
        "y=np.sin(2*pi*.5*x)+noise_level*np.random.randn(x.size)\n",
        "\n",
        "# plot the training data points\n",
        "plt.plot(x, y, 'ro')\n",
        "\n",
        "# plot the true function\n",
        "plt.plot(np.linspace(-1,1,50), np.sin(2*pi*.5*np.linspace(-1,1,50)), 'black')"
      ],
      "execution_count": null,
      "outputs": [
        {
          "output_type": "execute_result",
          "data": {
            "text/plain": [
              "[<matplotlib.lines.Line2D at 0x7f5a40f81600>]"
            ]
          },
          "metadata": {},
          "execution_count": 320
        },
        {
          "output_type": "display_data",
          "data": {
            "text/plain": [
              "<Figure size 640x480 with 1 Axes>"
            ],
            "image/png": "[encoded data removed]"
          },
          "metadata": {}
        }
      ]
    },
    {
      "cell_type": "code",
      "source": [
        "N = x.shape[0]\n",
        "M = 10\n",
        "d = M+1 # dimnesionality\n",
        "X = []\n",
        "for i in range(M+1):\n",
        "  X.append(x**i)\n",
        "\n",
        "X = np.array(X).T\n",
        "\n",
        "print('x',X.shape)\n",
        "print('y',y.shape)\n"
      ],
      "metadata": {
        "colab": {
          "base_uri": "https://localhost:8080/"
        },
        "id": "3OD4J4UE9y_V",
        "outputId": "c3a51ee0-6ee4-4818-c644-e01890edb7c4"
      },
      "execution_count": null,
      "outputs": [
        {
          "output_type": "stream",
          "name": "stdout",
          "text": [
            "x (20, 11)\n",
            "y (20,)\n"
          ]
        }
      ]
    },
    {
      "cell_type": "markdown",
      "source": [
        "In previous class we found w $\\mathbf{w}$ using the closed form solution, today we first find $\\mathbf{w}$ using Gradient Decent (GD). *Note for this toy example the is no reason to use a iterative optimiser, as the exact method exsist but it makes for a nice test bed.*\n",
        "\n",
        "The Mean Squared Loss / Mean Squared Error (MSE) can be written as follows:\n",
        "\n",
        "\\begin{equation}\n",
        "  L(\\mathbf{w}) = \\frac{1}{N}\\sum_{n=1}^N(\\sum_{i=1}^{d+1} x_{n,i} \\cdot w_i - y_n)^2\n",
        "\\end{equation}\n",
        "\n",
        "Or writen with matrices:\n",
        "\n",
        "\\begin{equation}\n",
        "  L(\\mathbf{w}) = \\frac{1}{N} ||X\\mathbf{w} - \\mathbf{y}||_2^2 = \\frac{1}{N} (X\\mathbf{w} - \\mathbf{y})^\\top(X\\mathbf{w} - \\mathbf{y})\n",
        "\\end{equation}\n",
        "\n",
        "**Question 1** Derive the gradeint of the MSE. Write you awnser here in latex:\n",
        "\n",
        "\\begin{equation}\n",
        "  \\nabla_\\mathbf{w} L(\\mathbf{w}) =\n",
        "\\end{equation}\n",
        "\n",
        "We then use the following update:"
      ],
      "metadata": {
        "id": "7N72iZaC8P1Z"
      }
    },
    {
      "cell_type": "markdown",
      "source": [
        "**Question 2** prove that $L$ is convex in $\\mathbf{w}$ (*hint think about the Hessain*)\n",
        "\n",
        "Write you awnser here in latex:\n"
      ],
      "metadata": {
        "id": "4Reukn_KQ2o1"
      }
    },
    {
      "cell_type": "markdown",
      "source": [
        "**Gradient Descent**"
      ],
      "metadata": {
        "id": "zrMBPRARXCqk"
      }
    },
    {
      "cell_type": "markdown",
      "source": [
        "We will first optimise $L(\\mathbf{w})$ using Gradient Descent.\n",
        "\n",
        "Which uses the following update:\n",
        "\n",
        "\n",
        "\\begin{equation}\n",
        "  \\mathbf{w}_{t+1} = \\mathbf{w}_t - \\eta_t \\nabla_\\mathbf{w} L(\\mathbf{w})\n",
        "\\end{equation}\n"
      ],
      "metadata": {
        "id": "Ga5Sto67Q631"
      }
    },
    {
      "cell_type": "markdown",
      "source": [
        "**Question 3** complete the functions below to calcuate the loss and gradients for a given $X$, $\\mathbf{y}$ & $\\mathbf{w}$."
      ],
      "metadata": {
        "id": "f7t2APpfSon6"
      }
    },
    {
      "cell_type": "code",
      "source": [
        "# It useful to first write a function that calculates the loss we will use this to measure our progress\n",
        "\n",
        "def MSE_loss(X, y, w):\n",
        "  mean_loss = 0 # your code here\n",
        "  return mean_loss\n"
      ],
      "metadata": {
        "id": "96FMG1cqNgHq"
      },
      "execution_count": null,
      "outputs": []
    },
    {
      "cell_type": "code",
      "source": [
        "# a quick sanity check for your loss function, If this cell throws and error your loss function still needs work!\n",
        "assert MSE_loss(np.array([0]), np.array([0]), np.array([0])) == 0\n",
        "assert MSE_loss(np.array([1]), np.array([1]), np.array([1])) == 0\n",
        "assert MSE_loss(np.array([1]), np.array([1]), np.array([0])) == 1\n",
        "assert MSE_loss(np.array([1]), np.array([0]), np.array([1])) == 1"
      ],
      "metadata": {
        "id": "E_4zQyYNxyxw"
      },
      "execution_count": null,
      "outputs": []
    },
    {
      "cell_type": "code",
      "source": [
        "# It is also useful to have a function that calculate gradient at a given point\n",
        "def grad_func(x, y, w):\n",
        "  n = x.shape[0]\n",
        "  gradient = 0\n",
        "  return gradient"
      ],
      "metadata": {
        "id": "eYP6g_gd1GJr"
      },
      "execution_count": null,
      "outputs": []
    },
    {
      "cell_type": "code",
      "source": [
        "# a quick sanity check for your gradient function, If this cell throws and error your gradient fucntion still needs work!\n",
        "assert la.norm(grad(np.array([[0,0],[0,0]]), np.zeros((2,1)), np.ones((2,1)))) == 0\n",
        "assert la.norm(grad(np.array([[1,0],[0,0]]), np.zeros((2,1)), np.ones((2,1)))) == 1\n",
        "assert la.norm(grad(np.array([[4,3],[4,3]]), np.zeros((2,1)), np.ones((2,1)))) == 70"
      ],
      "metadata": {
        "id": "lox8KuXj1R9p"
      },
      "execution_count": null,
      "outputs": []
    },
    {
      "cell_type": "markdown",
      "source": [
        "**Question 4** Implement GD and run for 1000 steps. Save the loss value after each step in the list 'gd_losses'."
      ],
      "metadata": {
        "id": "X6Qzt3E1TVMQ"
      }
    },
    {
      "cell_type": "code",
      "source": [
        "# In order to use an iterative optimisation method we need an initial guess:\n",
        "\n",
        "w = np.zeros(M+1)\n",
        "\n",
        "gd_losses = []\n",
        "gd_losses.append(MSE_loss(X, y, w))\n",
        "\n",
        "# ... and a step size\n",
        "\n",
        "eta = 1e-2\n",
        "\n",
        "number_of_iteratons = 1000\n",
        "\n",
        "for iter in range(number_of_iteratons):\n",
        "  # ----------------------------\n",
        "  # Your code here\n",
        "\n",
        "\n",
        "  # ----------------------------\n",
        "  loss = MSE_loss(X, y, w)\n",
        "  gd_losses.append(loss)\n",
        "  if iter % 100 == 99:\n",
        "    print(loss)\n",
        "\n",
        "plt.plot(np.arange(len(gd_losses)),gd_losses, 'red')"
      ],
      "metadata": {
        "id": "ZpgBiWOU9y6J"
      },
      "execution_count": null,
      "outputs": []
    },
    {
      "cell_type": "markdown",
      "source": [
        "**Question 5** Experiment different powers of ten for the step sizes $\\eta$, empically what value is the largest for which you get good performance? What does this suggest about the smoothness of $L(\\mathbf{w})$?"
      ],
      "metadata": {
        "id": "LJ4JlD8ETvBD"
      }
    },
    {
      "cell_type": "markdown",
      "source": [
        "**Gradient Descent with Backtracing Line Search**"
      ],
      "metadata": {
        "id": "Ymllv-NHabMA"
      }
    },
    {
      "cell_type": "markdown",
      "source": [
        "We will now optimise L using GD however we will use a line search method to select $\\eta$ at each update according to the Armijo-Goldstein Condition with hyperparameter c.\n",
        "\n",
        "\\begin{align*}\n",
        "f(\\mathbf{w} - \\eta_{t,k}\\nabla f(\\mathbf{w})) \\leq f(\\mathbf{w}) - c \\eta_{t,k} \\| \\nabla f(\\mathbf{w})\\|^2,\n",
        "\\end{align*}"
      ],
      "metadata": {
        "id": "e7qv-5xgXKUQ"
      }
    },
    {
      "cell_type": "code",
      "source": [
        "def check_armijo_goldstein_condtions(grad, loss, trail_point_loss, eta, c):\n",
        "  grad_norm = np.linalg.norm(grad)\n",
        "  if trail_point_loss <= loss - c * eta * grad_norm:\n",
        "    return True\n",
        "  else:\n",
        "    return False"
      ],
      "metadata": {
        "id": "D7kHiI67eBED"
      },
      "execution_count": null,
      "outputs": []
    },
    {
      "cell_type": "markdown",
      "source": [
        "To run the backtracking line search we first select a trial point $\\mathbf{w}'$,  according to $\\mathbf{w}_0' = \\mathbf{w}_t - \\eta_{t,0} \\nabla f$ where $\\eta_0 = \\gamma$. If a trial point satisfies the acceptance condition, we set $\\mathbf{w}_t = \\mathbf{w}_t'$, otherwise  $\\eta_{t,k+1} = \\alpha \\eta_{t,k}$. And select the next trail point according to $\\mathbf{w}_t' = \\mathbf{w}_t - \\eta_{t,k} \\nabla f$."
      ],
      "metadata": {
        "id": "norn1t7uiQE6"
      }
    },
    {
      "cell_type": "markdown",
      "source": [
        "**Question 6** Implement GD with backtracking line search and run if for 1000 steps, save the loss value after each step in the list 'line_search_losses'."
      ],
      "metadata": {
        "id": "CiFHqNdRNW31"
      }
    },
    {
      "cell_type": "code",
      "source": [
        "w = np.zeros(M+1)\n",
        "\n",
        "line_search_losses = []\n",
        "line_search_losses.append(MSE_loss(X, y, w))\n",
        "\n",
        "c = 0.001\n",
        "gamma = 10\n",
        "alpha = 0.8\n",
        "max_k = 50 # make number of line search steps\n",
        "\n",
        "number_of_iteratons = 1000\n",
        "loss = MSE_loss(X, y, w)\n",
        "\n",
        "for iter in range(number_of_iteratons):\n",
        "  # ----------------------------\n",
        "  # Your code here\n",
        "\n",
        "\n",
        "  # once we have found a point that satisfies the condition we take a step using this step size\n",
        "  # ----------------------------\n",
        "  w -= eta * grad\n",
        "  eta = gamma # set eta back to its intial value\n",
        "  loss = MSE_loss(X, y, w)\n",
        "  line_search_losses.append(loss)\n",
        "\n",
        "  if iter % 100 == 99:\n",
        "    print(loss)\n",
        "\n",
        "\n",
        "plt.plot(np.arange(len(gd_losses)),gd_losses, 'red')\n",
        "plt.plot(np.arange(len(line_search_losses)),line_search_losses, 'green')"
      ],
      "metadata": {
        "id": "i0y8jt69iOPD"
      },
      "execution_count": null,
      "outputs": []
    },
    {
      "cell_type": "markdown",
      "source": [
        "**Gradient Descent with Momentum**\n",
        "\n",
        "\\begin{align*}\n",
        "\\mathbf{m}_{0} &= 0,\\\\\n",
        "\\mathbf{m}_{t+1} &= \\mu \\mathbf{m}_{t} - \\eta_t \\nabla f(\\mathbf{w}_t),\\\\\n",
        "\\mathbf{w}_{t+1} &= \\mathbf{w}_{t} + \\mathbf{m}_{t+1}.\n",
        "\\end{align*}"
      ],
      "metadata": {
        "id": "6PXvg4YTiDqM"
      }
    },
    {
      "cell_type": "markdown",
      "source": [
        "**Question 7** Implement GD with momentum for 1000 steps, save the loss value after each step in the list 'gd_with_momenutm_losses'. What do you notice when compairing against GD without Momentum?"
      ],
      "metadata": {
        "id": "AToYbDOehJQi"
      }
    },
    {
      "cell_type": "code",
      "source": [
        "w = np.zeros(M+1)\n",
        "momentum = np.zeros(M+1)\n",
        "\n",
        "gd_with_momenutm_losses = []\n",
        "gd_with_momenutm_losses.append(MSE_loss(X, y, w))\n",
        "\n",
        "# ... and a step size\n",
        "\n",
        "eta = 1e-2\n",
        "mu = 0.9\n",
        "\n",
        "number_of_iteratons = 1000\n",
        "\n",
        "for iter in range(number_of_iteratons):\n",
        "  # ----------------------------\n",
        "  # Your code here\n",
        "\n",
        "  # ----------------------------\n",
        "  loss = MSE_loss(X, y, w)\n",
        "  gd_with_momenutm_losses.append(loss)\n",
        "  if iter % 100 == 99:\n",
        "    print(loss)\n",
        "\n",
        "plt.plot(np.arange(len(gd_losses)),gd_losses, 'red', label='gd')\n",
        "plt.plot(np.arange(len(line_search_losses)),line_search_losses, 'green')\n",
        "plt.plot(np.arange(len(gd_with_momenutm_losses)),gd_with_momenutm_losses, 'blue', label='gd_with_momentum')"
      ],
      "metadata": {
        "id": "xiJuaBkuWxgi"
      },
      "execution_count": null,
      "outputs": []
    },
    {
      "cell_type": "markdown",
      "source": [
        "**Gradient Descent with Nesterov Momentum**\n",
        "\n",
        "\n",
        "\\begin{align*}\n",
        "\\mathbf{m}_{0} &= 0,\\\\\n",
        "\\mathbf{m}_{t+1} &= \\mu \\mathbf{m}_{t} - \\eta \\nabla f(\\mathbf{w}_t + \\mu \\mathbf{m}_{t}),\\\\\n",
        "\\mathbf{w}_{t+1} &= \\mathbf{w}_{t} + \\mathbf{m}_{t+1}.\n",
        "\\end{align*}"
      ],
      "metadata": {
        "id": "jUcqieLHhFhI"
      }
    },
    {
      "cell_type": "markdown",
      "source": [
        "**###Optional### Question 8** Implement GD with nesterov momentum for 1000 steps, save the loss value after each step in the list 'gd_with_momenutm_losses'."
      ],
      "metadata": {
        "id": "dMc7dLQ-hjbP"
      }
    },
    {
      "cell_type": "code",
      "source": [
        "w = np.zeros(M+1)\n",
        "momentum = np.zeros(M+1)\n",
        "\n",
        "gd_with_nesterov_momenutm = []\n",
        "gd_with_nesterov_momenutm.append(MSE_loss(X, y, w))\n",
        "\n",
        "# ... and a step size\n",
        "\n",
        "eta = 1e-2\n",
        "mu = 0.9\n",
        "\n",
        "number_of_iteratons = 1000\n",
        "\n",
        "for iter in range(number_of_iteratons):\n",
        "  # ----------------------------\n",
        "  # Your code here\n",
        "\n",
        "  # ----------------------------\n",
        "  loss = MSE_loss(X, y, w)\n",
        "  gd_with_nesterov_momenutm.append(loss)\n",
        "  if iter % 100 == 99:\n",
        "    print(loss)\n",
        "\n",
        "plt.plot(np.arange(len(gd_losses)),gd_losses, 'red', label='gd')\n",
        "plt.plot(np.arange(len(line_search_losses)),line_search_losses, 'green')\n",
        "plt.plot(np.arange(len(gd_with_momenutm_losses)),gd_with_momenutm_losses, 'blue', label='gd_with_momentum')\n",
        "plt.plot(np.arange(len(gd_with_nesterov_momenutm)),gd_with_nesterov_momenutm, 'yellow', label='gd_with_momentum')"
      ],
      "metadata": {
        "id": "URsUBEAzhEZG"
      },
      "execution_count": null,
      "outputs": []
    },
    {
      "cell_type": "markdown",
      "source": [
        "**Exact Second Order**\n",
        "\n",
        "\\begin{align*}\n",
        "\\mathbf{w}_{t+1} = \\mathbf{w}_{t} -{H}_f^{-1}\\nabla f(\\mathbf{w}_t).\n",
        "\\end{align*}\n",
        "\n",
        "Where ${H}_f$ is the hessain."
      ],
      "metadata": {
        "id": "a67ahJjKpfRZ"
      }
    },
    {
      "cell_type": "markdown",
      "source": [
        "**Question 9** Implement the exact second order optimiser 1000 steps, save the loss value after each step in the list 'second_order_losses'."
      ],
      "metadata": {
        "id": "8PMXHEvLwOj3"
      }
    },
    {
      "cell_type": "code",
      "source": [
        "w = np.zeros(M+1)\n",
        "\n",
        "second_order_losses = []\n",
        "second_order_losses.append(MSE_loss(X, y, w))\n",
        "\n",
        "# ... note here we don't need learning rate\n",
        "\n",
        "number_of_iteratons = 1000\n",
        "\n",
        "for iter in range(number_of_iteratons):\n",
        "  # ----------------------------\n",
        "  # Your code here\n",
        "\n",
        "  # ----------------------------\n",
        "  loss = MSE_loss(X, y, w)\n",
        "  second_order_losses.append(loss)\n",
        "  if iter % 100 == 99:\n",
        "    print(loss)\n",
        "\n",
        "plt.plot(np.arange(len(second_order_losses)),second_order_losses, 'black')\n",
        "plt.plot(np.arange(len(gd_losses)),gd_losses, 'red', label='gd')\n",
        "plt.plot(np.arange(len(line_search_losses)),line_search_losses, 'green')\n",
        "plt.plot(np.arange(len(gd_with_momenutm_losses)),gd_with_momenutm_losses, 'blue', label='gd_with_momentum')\n",
        "plt.plot(np.arange(len(gd_with_nesterov_momenutm)),gd_with_nesterov_momenutm, 'yellow', label='gd_with_momentum')"
      ],
      "metadata": {
        "id": "tmBAVHmnwZNS"
      },
      "execution_count": null,
      "outputs": []
    },
    {
      "cell_type": "markdown",
      "source": [
        "\n",
        "**Question 10** Try adjusting the learning rates, which optimier is quickest? How many steps does it take to converge? Why is this? Which is the second quickest?\n",
        "\n"
      ],
      "metadata": {
        "id": "LdWHf30My0N6"
      }
    },
    {
      "cell_type": "markdown",
      "source": [
        "**Reading** - Gradient Free Optimiation\n",
        "\n"
      ],
      "metadata": {
        "id": "dWBtM5rozJ2P"
      }
    },
    {
      "cell_type": "markdown",
      "source": [
        "Gradient Free Coodinate Descent\n",
        "\n",
        "Gradient free optimisers are useful when the gradient can't easily be calculated. Instead of using the gradient they only use loss values. They start by picking a candidate direction $\\mathbf{p}_t$ and then evalulating the loss in the direction of $\\mathbf{p}_t$.\n",
        "\n",
        "\n",
        "In this assignment you will code up the three point alogruthm that selects the next point according to:\n",
        "\n",
        "\\begin{equation}\n",
        "\\mathbf{w}_{t+1} = \\text{argmin}\\{ f(\\mathbf{w}_t - \\eta \\mathbf{p}_t), f(\\mathbf{w}_t), f(\\mathbf{w}_t + \\eta \\mathbf{p}_t )\\}\n",
        "\\end{equation}\n",
        "\n",
        "In words we pick the next iterate to be the point with lowest loss out of the three trail points.\n",
        "\n",
        "In the coodinate descent optimiser $\\mathbf{p}_t$ is sampled from $\\{\\mathbf{e}_1, \\mathbf{e}_2, \\dots, \\mathbf{e}_d\\}$ with equal probability where $\\mathbf{e}_i$ is the $i^{th}$ unit vertor.\n",
        "\n",
        "\n"
      ],
      "metadata": {
        "id": "rUuwPKIH0wNz"
      }
    },
    {
      "cell_type": "markdown",
      "source": [
        "**Question 11** Implement the a gradient free coodinate descent optimiser and run for 1000 steps, save the loss value after each step in the list 'coord_dec_losses'."
      ],
      "metadata": {
        "id": "LYisvxySMiZM"
      }
    },
    {
      "cell_type": "code",
      "source": [
        "w = np.zeros(M+1)\n",
        "\n",
        "coord_dec_losses = []\n",
        "coord_dec_losses.append(MSE_loss(X, y, w))\n",
        "\n",
        "number_of_iteratons = 1000\n",
        "eta = 0.1\n",
        "\n",
        "for iter in range(number_of_iteratons):\n",
        "  # ----------------------------\n",
        "  # Your code here\n",
        "\n",
        "\n",
        "  # --------------------------\n",
        "  loss = MSE_loss(X, y, w)\n",
        "  coord_dec_losses.append(loss)\n",
        "  eta *= 0.999\n",
        "  if iter % 100 == 99:\n",
        "    print(loss)\n",
        "\n",
        "plt.plot(np.arange(len(second_order_losses)),second_order_losses, 'black')\n",
        "plt.plot(np.arange(len(gd_losses)),gd_losses, 'red', label='gd')\n",
        "plt.plot(np.arange(len(line_search_losses)),line_search_losses, 'green')\n",
        "plt.plot(np.arange(len(gd_with_momenutm_losses)),gd_with_momenutm_losses, 'blue', label='gd_with_momentum')\n",
        "plt.plot(np.arange(len(gd_with_nesterov_momenutm)),gd_with_nesterov_momenutm, 'yellow', label='gd_with_momentum')\n",
        "plt.plot(np.arange(len(coord_dec_losses)),coord_dec_losses, 'purple')"
      ],
      "metadata": {
        "id": "ALR2i6Xh6vne"
      },
      "execution_count": null,
      "outputs": []
    },
    {
      "cell_type": "markdown",
      "source": [
        "**Optional - Question 12** Implement a gradient free optimiser that instead selects $\\mathbf{p}$ uniformly from the unit hyper-sphere of dimention $d=$ (M+1) and run it for 1000 steps, save the loss value after each step in the list 'coord_dec_losses'."
      ],
      "metadata": {
        "id": "0CdPm3Dz_Jeh"
      }
    },
    {
      "cell_type": "code",
      "source": [
        "w = np.zeros(M+1)\n",
        "\n",
        "grad_free_losses = []\n",
        "grad_free_losses.append(MSE_loss(X, y, w))\n",
        "\n",
        "number_of_iteratons = 1000\n",
        "eta = 0.1\n",
        "\n",
        "for iter in range(number_of_iteratons):\n",
        "  # ----------------------------\n",
        "  # Your code here\n",
        "\n",
        "  # --------------------------\n",
        "  loss = MSE_loss(X, y, w)\n",
        "  grad_free_losses.append(loss)\n",
        "  eta *= 0.999\n",
        "  if iter % 100 == 99:\n",
        "    print(loss)\n",
        "\n",
        "plt.plot(np.arange(len(second_order_losses)),second_order_losses, 'black')\n",
        "plt.plot(np.arange(len(gd_losses)),gd_losses, 'red', label='gd')\n",
        "plt.plot(np.arange(len(line_search_losses)),line_search_losses, 'green')\n",
        "plt.plot(np.arange(len(gd_with_momenutm_losses)),gd_with_momenutm_losses, 'blue', label='gd_with_momentum')\n",
        "plt.plot(np.arange(len(gd_with_nesterov_momenutm)),gd_with_nesterov_momenutm, 'yellow', label='gd_with_momentum')\n",
        "plt.plot(np.arange(len(coord_dec_losses)),coord_dec_losses, 'purple')\n",
        "plt.plot(np.arange(len(grad_free_losses)),grad_free_losses, 'orange')"
      ],
      "metadata": {
        "id": "bZxK9WM9_KSg"
      },
      "execution_count": null,
      "outputs": []
    },
    {
      "cell_type": "code",
      "source": [
        "# Run this cell if you want to visualise a final model\n",
        "yhat = X@w\n",
        "plt.plot(x,y,'o', x, yhat, 'red')\n",
        "\n",
        "# plot the true function\n",
        "plt.plot(np.linspace(-1,1,50), np.sin(2*pi*.5*np.linspace(-1,1,50)), 'black')"
      ],
      "metadata": {
        "id": "lqAccInsWexq"
      },
      "execution_count": null,
      "outputs": []
    }
  ]
}