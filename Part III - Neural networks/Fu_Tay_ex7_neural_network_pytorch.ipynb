{
  "nbformat": 4,
  "nbformat_minor": 0,
  "metadata": {
    "colab": {
      "provenance": []
    },
    "kernelspec": {
      "name": "python3",
      "display_name": "Python 3"
    },
    "language_info": {
      "name": "python"
    },
    "accelerator": "GPU"
  },
  "cells": [
    {
      "cell_type": "markdown",
      "source": [
        "Expectations: Please complete the code so your NN can classify MNIST with high accuracy."
      ],
      "metadata": {
        "id": "_-O8HVTpkbZm"
      }
    },
    {
      "cell_type": "code",
      "execution_count": null,
      "metadata": {
        "id": "Vqg8SEXq55vV"
      },
      "outputs": [],
      "source": [
        "import torch\n",
        "import torch.nn as nn\n",
        "import torch.nn.functional as F\n",
        "import torch.optim as optim\n",
        "import numpy as np\n",
        "import matplotlib.pyplot as plt\n",
        "from torchvision import models,transforms\n",
        "from torchvision.utils import make_grid\n",
        "from torchvision.datasets import MNIST\n",
        "from torch.utils.data.sampler import SubsetRandomSampler\n",
        "from torch.utils.tensorboard import SummaryWriter\n",
        "from torchsummary import summary"
      ]
    },
    {
      "cell_type": "code",
      "source": [
        "# MNIST\n",
        "def mnist(batch_sz, valid_size=0.2, shuffle=True, random_seed=2000):\n",
        "    num_classes = 10                                # 10 classes in MNIST dataset (0-9)\n",
        "    transform_train = transforms.Compose([          # transformations to be applied to data (converting images to tensor)\n",
        "                        transforms.ToTensor(),\n",
        "                    ])\n",
        "\n",
        "    transform_valid = transforms.Compose([\n",
        "                        transforms.ToTensor(),\n",
        "                    ])\n",
        "\n",
        "    transform_test = transforms.Compose([\n",
        "                        transforms.ToTensor(),\n",
        "                    ])\n",
        "\n",
        "\n",
        "    # Training dataset\n",
        "    train_data = MNIST(root='./datasets', train=True, download=True, transform=transform_train)     # splitting MNIST dataset into training and validation sets\n",
        "    valid_data = MNIST(root='./datasets', train=True, download=True, transform=transform_valid)\n",
        "    num_train = len(train_data)     # number of training samples\n",
        "    indices = list(range(num_train))      # list indices of train_data\n",
        "    split = int(np.floor(valid_size * num_train))     # number of samples to use for validation\n",
        "    if shuffle == True:     # shuffle indices using random seed\n",
        "        np.random.seed(random_seed)\n",
        "        np.random.shuffle(indices)\n",
        "    train_idx, valid_idx = indices[split:], indices[:split]     # splitting list of indices into training and validation sets\n",
        "\n",
        "    train_sampler = SubsetRandomSampler(train_idx)\n",
        "    valid_sampler = SubsetRandomSampler(valid_idx)\n",
        "    train_loader = torch.utils.data.DataLoader(train_data, batch_size=batch_sz, sampler=train_sampler,pin_memory=True)\n",
        "    valid_loader = torch.utils.data.DataLoader(valid_data, batch_size=batch_sz, sampler=valid_sampler,pin_memory=True)\n",
        "\n",
        "    # Test dataset\n",
        "    test_data = MNIST(root='./datasets', train=False, download=True, transform=transform_test)\n",
        "    test_loader = torch.utils.data.DataLoader(test_data,\n",
        "                                              batch_size=batch_sz, shuffle=False, pin_memory=True)\n",
        "\n",
        "    return train_loader, valid_loader, test_loader\n",
        "\n"
      ],
      "metadata": {
        "id": "BDiyOVBF6Ess"
      },
      "execution_count": null,
      "outputs": []
    },
    {
      "cell_type": "code",
      "source": [
        "batch_sz=64 # this is batch size i.e. the number of rows in a batch of data\n",
        "train_loader, valid_loader, test_loader=mnist(batch_sz)"
      ],
      "metadata": {
        "colab": {
          "base_uri": "https://localhost:8080/"
        },
        "id": "5AaDsz2E6HsU",
        "outputId": "7dedd979-a8e1-45a6-a81e-294963181f22"
      },
      "execution_count": null,
      "outputs": [
        {
          "output_type": "stream",
          "name": "stdout",
          "text": [
            "Downloading http://yann.lecun.com/exdb/mnist/train-images-idx3-ubyte.gz\n",
            "Failed to download (trying next):\n",
            "HTTP Error 403: Forbidden\n",
            "\n",
            "Downloading https://ossci-datasets.s3.amazonaws.com/mnist/train-images-idx3-ubyte.gz\n",
            "Downloading https://ossci-datasets.s3.amazonaws.com/mnist/train-images-idx3-ubyte.gz to ./datasets/MNIST/raw/train-images-idx3-ubyte.gz\n"
          ]
        },
        {
          "output_type": "stream",
          "name": "stderr",
          "text": [
            "100%|██████████| 9912422/9912422 [00:00<00:00, 17514640.74it/s]\n"
          ]
        },
        {
          "output_type": "stream",
          "name": "stdout",
          "text": [
            "Extracting ./datasets/MNIST/raw/train-images-idx3-ubyte.gz to ./datasets/MNIST/raw\n",
            "\n",
            "Downloading http://yann.lecun.com/exdb/mnist/train-labels-idx1-ubyte.gz\n",
            "Failed to download (trying next):\n",
            "HTTP Error 403: Forbidden\n",
            "\n",
            "Downloading https://ossci-datasets.s3.amazonaws.com/mnist/train-labels-idx1-ubyte.gz\n",
            "Downloading https://ossci-datasets.s3.amazonaws.com/mnist/train-labels-idx1-ubyte.gz to ./datasets/MNIST/raw/train-labels-idx1-ubyte.gz\n"
          ]
        },
        {
          "output_type": "stream",
          "name": "stderr",
          "text": [
            "100%|██████████| 28881/28881 [00:00<00:00, 489263.19it/s]\n"
          ]
        },
        {
          "output_type": "stream",
          "name": "stdout",
          "text": [
            "Extracting ./datasets/MNIST/raw/train-labels-idx1-ubyte.gz to ./datasets/MNIST/raw\n",
            "\n",
            "Downloading http://yann.lecun.com/exdb/mnist/t10k-images-idx3-ubyte.gz\n",
            "Failed to download (trying next):\n",
            "HTTP Error 403: Forbidden\n",
            "\n",
            "Downloading https://ossci-datasets.s3.amazonaws.com/mnist/t10k-images-idx3-ubyte.gz\n",
            "Downloading https://ossci-datasets.s3.amazonaws.com/mnist/t10k-images-idx3-ubyte.gz to ./datasets/MNIST/raw/t10k-images-idx3-ubyte.gz\n"
          ]
        },
        {
          "output_type": "stream",
          "name": "stderr",
          "text": [
            "100%|██████████| 1648877/1648877 [00:01<00:00, 1094288.69it/s]\n"
          ]
        },
        {
          "output_type": "stream",
          "name": "stdout",
          "text": [
            "Extracting ./datasets/MNIST/raw/t10k-images-idx3-ubyte.gz to ./datasets/MNIST/raw\n",
            "\n",
            "Downloading http://yann.lecun.com/exdb/mnist/t10k-labels-idx1-ubyte.gz\n",
            "Failed to download (trying next):\n",
            "HTTP Error 403: Forbidden\n",
            "\n",
            "Downloading https://ossci-datasets.s3.amazonaws.com/mnist/t10k-labels-idx1-ubyte.gz\n",
            "Downloading https://ossci-datasets.s3.amazonaws.com/mnist/t10k-labels-idx1-ubyte.gz to ./datasets/MNIST/raw/t10k-labels-idx1-ubyte.gz\n"
          ]
        },
        {
          "output_type": "stream",
          "name": "stderr",
          "text": [
            "100%|██████████| 4542/4542 [00:00<00:00, 3911009.81it/s]\n"
          ]
        },
        {
          "output_type": "stream",
          "name": "stdout",
          "text": [
            "Extracting ./datasets/MNIST/raw/t10k-labels-idx1-ubyte.gz to ./datasets/MNIST/raw\n",
            "\n"
          ]
        }
      ]
    },
    {
      "cell_type": "code",
      "source": [
        "batch = next(iter(train_loader))"
      ],
      "metadata": {
        "id": "LBjoQZbpAEI0"
      },
      "execution_count": null,
      "outputs": []
    },
    {
      "cell_type": "code",
      "source": [
        "batch[0].shape"
      ],
      "metadata": {
        "colab": {
          "base_uri": "https://localhost:8080/"
        },
        "id": "vHVdxPoSAHr2",
        "outputId": "8420be6d-1fad-4c45-cda7-6695fd330f3e"
      },
      "execution_count": null,
      "outputs": [
        {
          "output_type": "execute_result",
          "data": {
            "text/plain": [
              "torch.Size([64, 1, 28, 28])"
            ]
          },
          "metadata": {},
          "execution_count": 5
        }
      ]
    },
    {
      "cell_type": "code",
      "source": [
        "#Q2: Define a CNN with 2 conv layer and 2 linear layers for mnist digit classification\n",
        "\n",
        "# 2 conv layers 8, 16, ---> NN--> 100, 10\n",
        "class My_CNN(nn.Module):\n",
        "  def __init__(self):\n",
        "    super().__init__()\n",
        "    self.conv1 = nn.Conv2d(1,8, 3, 1)         # first conv layer with 1 input channel (grayscale), 8 output channels (filters), kernel (filter) size of 3x3, and stride (number of pixels the kernel moves over the input image at each step) of 1\n",
        "    self.conv2 = nn.Conv2d(8, 16, (3,3), 1)   # same as nn.Conv2d(8, 16, 3, 1)\n",
        "    # TODO\n",
        "    self.linear1 = nn.Linear(16*5*5, 100)     # linear (fully connected) layer that needs to be defined. this layer should take the flattened output from the conv layers and transform it to a vector of size 100\n",
        "    self.linear2 = nn.Linear(100, 10)         # linear layer that transforms the output of linear1 to a vector of size 10, corresponding to the 10 classes of MNIST digits\n",
        "\n",
        "  # You can assume relu activation except the output layer\n",
        "  def forward(self, x):\n",
        "    # x-->(batch size, 1, 28, 28)\n",
        "    x = self.conv1(x)                         # applies first conv layer\n",
        "    x = torch.relu(x)                         # applies ReLU activation function\n",
        "    # x -->(batch size, 8 , 26, 26), TODO\n",
        "    x = F.max_pool2d(x, (2, 2))\n",
        "    # x -->(batch size, 8, 13, 13), TODO\n",
        "    x = self.conv2(x)\n",
        "    x = torch.relu(x)\n",
        "    # x -->(batch size, 16, 11, 11)\n",
        "    x = F.max_pool2d(x, (2, 2))\n",
        "    # x -->(batch size, 16, 5, 5)\n",
        "    x = x.view(-1, 16*5*5)                    # reshapes the tensor for the fully connected layers\n",
        "    x = self.linear1(x)                       # applies the first fully connected layer\n",
        "    # TODO\n",
        "    x = x.view(-1, 100)\n",
        "    x = self.linear2(x)\n",
        "    return x\n",
        "\n",
        "\n",
        "\n",
        "\n",
        "\n",
        "\n",
        "\n"
      ],
      "metadata": {
        "id": "TxIJJ4sr8j2b"
      },
      "execution_count": null,
      "outputs": []
    },
    {
      "cell_type": "code",
      "source": [
        "#Q3: Train CNN for 10 epochs\n",
        "\n",
        "# fixing a device to run the codes on\n",
        "device = torch.device(\"cuda:0\")\n",
        "# creating a instance of My_CNN and moiving it to the device\n",
        "net = My_CNN().to(device)\n",
        "lr = 0.1\n",
        "#creating an sgd optimizer for my network\n",
        "opt = optim.SGD(net.parameters(), lr= lr)\n",
        "num_tikrar = 10\n",
        "ls =[]\n",
        "for i in range(num_tikrar):\n",
        "  total_loss = 0\n",
        "  for batch in train_loader:\n",
        "    #extractign data and labels from batch\n",
        "    X,y = batch[0].to(device), batch[1].to(device)\n",
        "    # TODO: forward pass\n",
        "    yhat =\n",
        "    # TODO: calculating the loss\n",
        "    loss =\n",
        "    # TODO: empyting the buffers to the store the gradients\n",
        "\n",
        "    # TODO: backward pass to calculate the gradietns\n",
        "\n",
        "    # optimizing: taking a step in the negative gradient direction\n",
        "    opt.step()\n",
        "    total_loss+= loss.item()\n",
        "  ls.append(total_loss)\n",
        "\n",
        "plt.plot(ls)\n",
        "\n"
      ],
      "metadata": {
        "colab": {
          "base_uri": "https://localhost:8080/",
          "height": 283
        },
        "id": "0Q_eeCRs8jhB",
        "outputId": "8fcf3464-96a6-4fda-b3e7-f6e649b6c702"
      },
      "execution_count": null,
      "outputs": [
        {
          "output_type": "execute_result",
          "data": {
            "text/plain": [
              "[<matplotlib.lines.Line2D at 0x7fcb21da5370>]"
            ]
          },
          "metadata": {},
          "execution_count": 18
        },
        {
          "output_type": "display_data",
          "data": {
            "text/plain": [
              "<Figure size 432x288 with 1 Axes>"
            ],
            "image/png": "[encoded data removed]"
          },
          "metadata": {
            "needs_background": "light"
          }
        }
      ]
    },
    {
      "cell_type": "code",
      "source": [
        "layer1 = net.cpu().conv1.weight.detach()\n",
        "layer2 = net.cpu().conv2.weight.detach()"
      ],
      "metadata": {
        "id": "FwVysM8b8jeK"
      },
      "execution_count": null,
      "outputs": []
    },
    {
      "cell_type": "code",
      "source": [
        "k=0\n",
        "for i in range(layer1.shape[0]):\n",
        "  for j in range(layer1.shape[1]):\n",
        "    k+=1\n",
        "    plt.subplot(layer1.shape[0],layer1.shape[1], k)\n",
        "    plt.imshow(layer1[i,j,:,:])\n"
      ],
      "metadata": {
        "colab": {
          "base_uri": "https://localhost:8080/",
          "height": 265
        },
        "id": "o8bwVrjm8jb0",
        "outputId": "c940802e-b7c6-4a1f-8d5c-994bf31beeba"
      },
      "execution_count": null,
      "outputs": [
        {
          "output_type": "display_data",
          "data": {
            "text/plain": [
              "<Figure size 432x288 with 8 Axes>"
            ],
            "image/png": "[encoded data removed]"
          },
          "metadata": {
            "needs_background": "light"
          }
        }
      ]
    },
    {
      "cell_type": "code",
      "source": [
        "k=0\n",
        "for i in range(layer2.shape[0]):\n",
        "  for j in range(layer2.shape[1]):\n",
        "    k+=1\n",
        "    plt.subplot(layer2.shape[0],layer2.shape[1], k)\n",
        "    plt.imshow(layer2[i,j,:,:])\n",
        "    plt.axis(\"off\")\n"
      ],
      "metadata": {
        "colab": {
          "base_uri": "https://localhost:8080/",
          "height": 248
        },
        "id": "T4qnpLArUURm",
        "outputId": "f48eb935-a089-4eee-80db-27cac3cf1fb0"
      },
      "execution_count": null,
      "outputs": [
        {
          "output_type": "display_data",
          "data": {
            "text/plain": [
              "<Figure size 432x288 with 128 Axes>"
            ],
            "image/png": "[encoded data removed]"
          },
          "metadata": {
            "needs_background": "light"
          }
        }
      ]
    }
  ]
}